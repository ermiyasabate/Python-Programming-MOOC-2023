{
 "cells": [
  {
   "cell_type": "markdown",
   "metadata": {},
   "source": [
    "<hr/>\n",
    "<div class=\"alert alert-danger alertsuccess\" style=\"margin-top: 20px\">\n",
    "<h2>Programming exercise:</h2>\n",
    "<h3><b>Print numbers</b></h3>\n",
    "<p>\n",
    "<b>Pre-task</b><br>\n",
    "Please write a program which asks the user for integer numbers. The program should keep asking for numbers until the user types in zero.<br>\n",
    "\n",
    "Please type in integer numbers. Type in 0 to finish.<br>\n",
    "Number: 5<br>\n",
    "Number: 22<br>\n",
    "Number: 9<br>\n",
    "Number: -2<br>\n",
    "Number: 0\n",
    "\n",
    "<b>Part 1: Count</b><br>\n",
    "After reading in the numbers the program should print out how many numbers were typed in. The zero at the end should not be included in the count.\n",
    "\n",
    "You will need a new variable here to keep track of the numbers typed in.\n",
    "\n",
    "... the program asks for numbers<br>\n",
    "Numbers typed in 4\n",
    "\n",
    "<b>Part 2: Sum</b><br>\n",
    "The program should also print out the sum of all the numbers typed in. The zero at the end should not be included in the calculation.\n",
    "\n",
    "The program should now print out the following:\n",
    "... the program asks for numbers<br>\n",
    "Numbers typed in 4<br>\n",
    "The sum of the numbers is 34\n",
    "\n",
    "<b>Part 3: Mean</b><br>\n",
    "The program should also print out the mean of the numbers. The zero at the end should not be included in the calculation. You may assume the user will always type in at least one valid non-zero number.\n",
    "\n",
    "... the program asks for numbers<br>\n",
    "Numbers typed in 4<br>\n",
    "The sum of the numbers is 34<br>\n",
    "The mean of the numbers is 8.5\n",
    "\n",
    "<b>Part 4: Positives and negatives</b><br>\n",
    "The program should also print out statistics on how many of the numbers were positive and how many were negative. The zero at the end should not be included in the calculation.<br>\n",
    "\n",
    "... the program asks for numbers<br>\n",
    "Numbers typed in 4<br>\n",
    "The sum of the numbers is 34<br>\n",
    "The mean of the numbers is 8.5<br>\n",
    "Positive numbers 3<br>\n",
    "Negative numbers 1\n",
    "</p>\n",
    "</div>\n",
    "<hr/>"
   ]
  },
  {
   "cell_type": "code",
   "execution_count": null,
   "metadata": {},
   "outputs": [],
   "source": []
  }
 ],
 "metadata": {
  "language_info": {
   "name": "python"
  }
 },
 "nbformat": 4,
 "nbformat_minor": 2
}
