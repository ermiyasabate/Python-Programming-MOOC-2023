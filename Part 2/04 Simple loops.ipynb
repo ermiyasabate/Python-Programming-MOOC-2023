{
 "cells": [
  {
   "cell_type": "markdown",
   "metadata": {},
   "source": [
    "# Simple loops\n",
    "\n",
    "We have now covered conditional structures in some detail.\n",
    "\n",
    "Another central technique in programming is repetition, or iteration. Together these form the fundamental control structures any programmer must master. They are called control structures because essentially they allow you to control which lines of code get executed when.\n",
    "\n",
    "While conditional structures allow you to choose between sections of code, iteration structures allow you to repeat sections of code. They are often called loops because they allow the program to \"loop back\" to some line that was already executed before. The process of executing one repetition of a loop is also referred to as an iteration of the loop.\n",
    "\n",
    "This section introduces a simple while loop. Its structure is similar to the conditional statements we already covered. In the next part we will delve into some more sophisticated examples.\n",
    "\n",
    "Let's have a look at a program which asks the user to type in a number and then prints out the number squared. This continues until the user types in -1."
   ]
  },
  {
   "cell_type": "code",
   "execution_count": null,
   "metadata": {},
   "outputs": [],
   "source": []
  }
 ],
 "metadata": {
  "language_info": {
   "name": "python"
  }
 },
 "nbformat": 4,
 "nbformat_minor": 2
}
