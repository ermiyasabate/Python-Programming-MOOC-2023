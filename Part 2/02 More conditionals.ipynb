{
 "cells": [
  {
   "cell_type": "markdown",
   "metadata": {},
   "source": [
    "# More conditionals\n",
    "\n",
    "Let's have a look at a program which asks the user to input a number, and then prints out different messages based on whether the number is negative, positive, or equal to zero:<br>\n",
    "\n",
    "<code>\n",
    "number = int(input(\"Please type in a number: \"))\n",
    "\n",
    "if number < 0:<br>\n",
    "    print(\"The number is negative\")\n",
    "\n",
    "if number >= 0:<br>\n",
    "    print(\"The number is positive or zero\")\n",
    "\n",
    "</code>"
   ]
  },
  {
   "cell_type": "code",
   "execution_count": null,
   "metadata": {},
   "outputs": [],
   "source": []
  }
 ],
 "metadata": {
  "language_info": {
   "name": "python"
  }
 },
 "nbformat": 4,
 "nbformat_minor": 2
}
