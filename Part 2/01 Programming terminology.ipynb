{
 "cells": [
  {
   "cell_type": "markdown",
   "metadata": {},
   "source": [
    "# Programming terminology\n",
    "\n",
    "In the first part of this course we didn't pay much attention to terminology, so let's have a look at some central concepts in programming.\n",
    "\n",
    "## Statement\n",
    "A statement is a part of the program which executes something. It often, but not always, refers to a single command.\n",
    "\n",
    "For example, print(\"Hi!\") is a statement which prints out a line of text. Likewise, number = 2 is a statement which assigns a value to a variable.\n",
    "\n",
    "A statement can also be more complicated. It can, for instance, contain other statements. The following statement spans three lines:"
   ]
  },
  {
   "cell_type": "code",
   "execution_count": null,
   "metadata": {},
   "outputs": [],
   "source": []
  }
 ],
 "metadata": {
  "language_info": {
   "name": "python"
  }
 },
 "nbformat": 4,
 "nbformat_minor": 2
}
