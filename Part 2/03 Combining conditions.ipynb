{
 "cells": [
  {
   "cell_type": "markdown",
   "metadata": {},
   "source": [
    "# Combining conditions\n",
    "\n",
    "## Logical operators\n",
    "\n",
    "You can combine conditions with the logical operators and and or. The operator and specifies that all the given conditions must be true at the same time. The operator or specifies that at least one of the given conditions must be true.\n",
    "\n",
    "For example, the condition number >= 5 and number <= 8 determines that number must simultaneously be at least 5 and at most 8. That is, it must be between 5 and 8."
   ]
  },
  {
   "cell_type": "code",
   "execution_count": 3,
   "metadata": {},
   "outputs": [
    {
     "name": "stdout",
     "output_type": "stream",
     "text": [
      "The number is between 5 and 8\n"
     ]
    }
   ],
   "source": [
    "number = int(input(\"Please type in a number: \"))\n",
    "if number >= 5 and number <= 8:\n",
    "    print(\"The number is between 5 and 8\")"
   ]
  },
  {
   "cell_type": "markdown",
   "metadata": {},
   "source": [
    "Meanwhile, the condition number < 5 or number > 8 determines that number must be either less than 5 or greater than 8. That is, it must not be within the range of 5 to 8."
   ]
  },
  {
   "cell_type": "code",
   "execution_count": 8,
   "metadata": {},
   "outputs": [
    {
     "name": "stdout",
     "output_type": "stream",
     "text": [
      "The number is not within the range of 5 to 8\n"
     ]
    }
   ],
   "source": [
    "number = int(input(\"Please type in a number: \"))\n",
    "if number < 5 or number > 8:\n",
    "    print(\"The number is not within the range of 5 to 8\")"
   ]
  },
  {
   "cell_type": "markdown",
   "metadata": {},
   "source": [
    "The following contains the behaviour of these operators in different situations:"
   ]
  },
  {
   "cell_type": "code",
   "execution_count": 10,
   "metadata": {},
   "outputs": [
    {
     "name": "stdout",
     "output_type": "stream",
     "text": [
      "True\n",
      "False\n",
      "False\n",
      "False\n"
     ]
    }
   ],
   "source": [
    "# and\n",
    "print(True and True)\n",
    "print(True and False)\n",
    "print(False and True)\n",
    "print(False and False)"
   ]
  },
  {
   "cell_type": "code",
   "execution_count": 11,
   "metadata": {},
   "outputs": [
    {
     "name": "stdout",
     "output_type": "stream",
     "text": [
      "True\n",
      "True\n",
      "True\n",
      "False\n"
     ]
    }
   ],
   "source": [
    "# or\n",
    "print(True or True)\n",
    "print(True or False)\n",
    "print(False or True)\n",
    "print(False or False)"
   ]
  },
  {
   "cell_type": "markdown",
   "metadata": {},
   "source": [
    "Sometimes it is necessary to know if something is not true. The operator not negates a condition:"
   ]
  },
  {
   "cell_type": "code",
   "execution_count": 13,
   "metadata": {},
   "outputs": [
    {
     "name": "stdout",
     "output_type": "stream",
     "text": [
      "True\n",
      "False\n"
     ]
    }
   ],
   "source": [
    "# not\n",
    "print(not(False))\n",
    "print(not(True))"
   ]
  },
  {
   "cell_type": "markdown",
   "metadata": {},
   "source": [
    "##### Simplified combined conditions\n",
    "The condition x >= a and x <= b is a very common way of checking whether the number x falls within the range of a to b. An expression with this structure works the same way in most programming languages.\n",
    "\n",
    "Python also allows a simplified notation for combining conditions: a <= x <= b achieves the same result as the longer version using and. This shorter notation might be more familiar from mathematics, but it is not very widely used in Python programming, possibly because very few other programming languages have a similar shorthand\n",
    "\n",
    "## Combining and chaining conditions\n",
    "The following program asks the user to type in four numbers. It then works out which of the four is the greatest, with the help of some conditions:"
   ]
  },
  {
   "cell_type": "code",
   "execution_count": 14,
   "metadata": {},
   "outputs": [
    {
     "name": "stdout",
     "output_type": "stream",
     "text": [
      " 4 is the greatest of the numbers.\n"
     ]
    }
   ],
   "source": [
    "n1 = int(input(\"Number 1: \"))\n",
    "n2 = int(input(\"Number 2: \"))\n",
    "n3 = int(input(\"Number 3: \"))\n",
    "n4 = int(input(\"Number 4: \"))\n",
    "\n",
    "if n1 > n2 and n1 > n3 and n1 > n4:\n",
    "    greatest = n1\n",
    "elif n2 > n3 and n2 > n4:\n",
    "    greatest = n2\n",
    "elif n3 > n4:\n",
    "    greatest = n3\n",
    "else:\n",
    "    greatest = n4\n",
    "\n",
    "print(f\" {greatest} is the greatest of the numbers.\")"
   ]
  },
  {
   "cell_type": "markdown",
   "metadata": {},
   "source": [
    "In the above example the first condition n1 > n2 and n1 > n3 and n1 > n4 is true only if all three conditions within are true."
   ]
  },
  {
   "cell_type": "markdown",
   "metadata": {},
   "source": [
    "<hr/>\n",
    "<div class=\"alert alert-danger alertsuccess\" style=\"margin-top: 20px\">\n",
    "<b><h3>Programming exercise:</h3></b>\n",
    "<p><b>Age check<br></b>\n",
    "Please write a program which asks for the user's age. If the age is not plausible, that is, it is under 5 or something that can't be an actual human age, the program should print out a comment.\n",
    "\n",
    "Have a look at the examples of expected behaviour below to figure out which comment is applicable in each case.<br>\n",
    "\n",
    "What is your age? 13<br>\n",
    "Ok, you're 13 years old<br>\n",
    "\n",
    "What is your age? 2<br>\n",
    "I suspect you can't write quite yet...<br>\n",
    "\n",
    "What is your age? -4<br>\n",
    "That must be a mistake\n",
    "</p>\n",
    "</div>\n",
    "<hr/>"
   ]
  },
  {
   "cell_type": "code",
   "execution_count": 8,
   "metadata": {},
   "outputs": [
    {
     "name": "stdout",
     "output_type": "stream",
     "text": [
      "I suspect you can't write quite yet...\n"
     ]
    }
   ],
   "source": [
    "age = int(input(\"What is your age? \"))\n",
    "\n",
    "if age < 0:\n",
    "    print(\"That must be a mistake\")\n",
    "elif age < 5:\n",
    "    print(\"I suspect you can't write quite yet...\")\n",
    "else:\n",
    "    print(f\"Ok, you're {age} years old\")\n"
   ]
  },
  {
   "cell_type": "markdown",
   "metadata": {},
   "source": [
    "<hr/>\n",
    "<div class=\"alert alert-danger alertsuccess\" style=\"margin-top: 20px\">\n",
    "<b><h3>Programming exercise:</h3></b>\n",
    "<p><b>Nephews<br></b>\n",
    "Please write a program which asks for the user's name. If the name is Huey, Dewey or Louie, the program should recognise the user as one of Donald Duck's nephews.\n",
    "\n",
    "In a similar fashion, if the name is Morty or Ferdie, the program should recognise the user as one of Mickey Mouse's nephews.\n",
    "\n",
    "Some examples:<br>\n",
    "Please type in your name: Morty<br>\n",
    "I think you might be one of Mickey Mouse's nephews.<br>\n",
    "\n",
    "Please type in your name: Huey<br>\n",
    "I think you might be one of Donald Duck's nephews.<br>\n",
    "\n",
    "Please type in your name: Ken<br>\n",
    "You're not a nephew of any character I know of.\n",
    "</p>\n",
    "</div>\n",
    "<hr/>"
   ]
  },
  {
   "cell_type": "code",
   "execution_count": 13,
   "metadata": {},
   "outputs": [
    {
     "name": "stdout",
     "output_type": "stream",
     "text": [
      "I think you might be one of Donald Duck's nephews.\n"
     ]
    }
   ],
   "source": [
    "name = input(\"Please type in your name: \")\n",
    "\n",
    "if name == \"Huey\" or name == \"Dewey\" or name == \"Louie\":\n",
    "    print(\"I think you might be one of Donald Duck's nephews.\")\n",
    "elif name == \"Morty\" or name == \"Ferdie\":\n",
    "    print(\"I think you might be one of Mickey Mouse's nephews.\")\n",
    "else:\n",
    "    print(\"You're not a nephew of any character I know of.\")"
   ]
  },
  {
   "cell_type": "markdown",
   "metadata": {},
   "source": [
    "<hr/>\n",
    "<div class=\"alert alert-danger alertsuccess\" style=\"margin-top: 20px\">\n",
    "<b><h3>Programming exercise:</h3></b>\n",
    "<p><b>Grades and points<br></b>\n",
    "The table below outlines the grade boundaries on a certain university course. Please write a program which asks for the amount of points received and then prints out the grade attained according to the table.<br>\n",
    "\n",
    "<table class=\"MuiTable-root\">\n",
    "    <thead class=\"MuiTableHead-root\">\n",
    "        <tr class=\"MuiTableRow-root MuiTableRow-head\">\n",
    "            <th  role=\"columnheader\" scope=\"col\" style=\"text-align: center;\">points</th>\n",
    "            <th  role=\"columnheader\" scope=\"col\" style=\"text-align: center;\">grade</th>\n",
    "        </tr>\n",
    "    </thead>\n",
    "    <tbody class=\"MuiTableBody-root\">\n",
    "        <tr class=\"MuiTableRow-root\">\n",
    "            <td  style=\"text-align: center;\">&lt; 0</td>\n",
    "            <td  style=\"text-align: center;\">impossible!</td>\n",
    "        </tr>\n",
    "        <tr class=\"MuiTableRow-root\">\n",
    "            <td  style=\"text-align: center;\">0-49</td>\n",
    "            <td  style=\"text-align: center;\">fail</td>\n",
    "        </tr>\n",
    "        <tr class=\"MuiTableRow-root\">\n",
    "            <td  style=\"text-align: center;\">50-59</td>\n",
    "            <td  style=\"text-align: center;\">1</td>\n",
    "        </tr>\n",
    "        <tr class=\"MuiTableRow-root\">\n",
    "            <td  style=\"text-align: center;\">60-69</td>\n",
    "            <td  style=\"text-align: center;\">2</td>\n",
    "        </tr>\n",
    "        <tr class=\"MuiTableRow-root\">\n",
    "            <td  style=\"text-align: center;\">70-79</td>\n",
    "            <td  style=\"text-align: center;\">3</td>\n",
    "        </tr>\n",
    "        <tr class=\"MuiTableRow-root\">\n",
    "            <td  style=\"text-align: center;\">80-89</td>\n",
    "            <td  style=\"text-align: center;\">4</td>\n",
    "        </tr>\n",
    "        <tr class=\"MuiTableRow-root\">\n",
    "            <td  style=\"text-align: center;\">90-100</td>\n",
    "            <td  style=\"text-align: center;\">5</td>\n",
    "        </tr>\n",
    "        <tr class=\"MuiTableRow-root\">\n",
    "            <td  style=\"text-align: center;\">&gt; 100</td>\n",
    "            <td  style=\"text-align: center;\">impossible!</td>\n",
    "        </tr>\n",
    "    </tbody>\n",
    "</table>\n",
    "\n",
    "Some examples:<br>\n",
    "How many points [0-100]: 37<br>\n",
    "Grade: fail<br>\n",
    "\n",
    "Sample output<br>\n",
    "How many points [0-100]: 76<br>\n",
    "Grade: 3<br>\n",
    "\n",
    "Sample output<br>\n",
    "How many points [0-100]: -3<br>\n",
    "Grade: impossible!\n",
    "</p>\n",
    "</div>\n",
    "<hr/>"
   ]
  },
  {
   "cell_type": "code",
   "execution_count": 18,
   "metadata": {},
   "outputs": [
    {
     "name": "stdout",
     "output_type": "stream",
     "text": [
      "Grade: impossible!\n"
     ]
    }
   ],
   "source": [
    "points = int(input(\"How many points [0-100]: \"))\n",
    "\n",
    "if points < 0:\n",
    "    grade = \"impossible!\"\n",
    "elif points >= 0 and points <= 49:\n",
    "    grade = \"fail\"\n",
    "elif points >= 50 and points <= 59:\n",
    "    grade = \"1\"\n",
    "elif points >= 60 and points <= 69:\n",
    "    grade = \"2\"\n",
    "elif points >= 70 and points <= 79:\n",
    "    grade = \"3\"\n",
    "elif points >= 80 and points <= 89:\n",
    "    grade = \"4\"\n",
    "elif points >= 90 and points <= 100:\n",
    "    grade = \"5\"\n",
    "else:\n",
    "    grade = \"impossible!\"\n",
    "    \n",
    "print(f\"Grade: {grade}\")"
   ]
  },
  {
   "cell_type": "markdown",
   "metadata": {},
   "source": [
    "Or Enhanced"
   ]
  },
  {
   "cell_type": "code",
   "execution_count": 20,
   "metadata": {},
   "outputs": [
    {
     "name": "stdout",
     "output_type": "stream",
     "text": [
      "Grade: 5\n"
     ]
    }
   ],
   "source": [
    "points = int(input(\"How many points [0-100]: \"))\n",
    " \n",
    "if points < 0 or points > 100:\n",
    "    grade = \"impossible!\"\n",
    "elif points < 50:\n",
    "    grade = \"fail\"\n",
    "elif points < 60:\n",
    "    grade = \"1\"\n",
    "elif points < 70:\n",
    "    grade = \"2\"\n",
    "elif points < 80:\n",
    "    grade = \"3\"\n",
    "elif points < 90:\n",
    "    grade = \"4\"\n",
    "else:\n",
    "    grade = \"5\"\n",
    " \n",
    "print(f\"Grade: {grade}\")"
   ]
  },
  {
   "cell_type": "markdown",
   "metadata": {},
   "source": [
    "<hr/>\n",
    "<div class=\"alert alert-danger alertsuccess\" style=\"margin-top: 20px\">\n",
    "<b><h3>Programming exercise:</h3></b>\n",
    "<p><b>FizzBuzz<br></b>\n",
    "Please write a program which asks the user for an integer number. If the number is divisible by three, the program should print out Fizz. If the number is divisible by five, the program should print out Buzz. If the number is divisible by both three and five, the program should print out FizzBuzz.\n",
    "\n",
    "Some examples of expected behaviour:<br>\n",
    "\n",
    "Number: 9<br>\n",
    "Fizz<br>\n",
    "\n",
    "Sample output<br>\n",
    "Number: 7<br>\n",
    "\n",
    "Sample output<br>\n",
    "Number: 20<br>\n",
    "Buzz<br>\n",
    "\n",
    "Sample output<br>\n",
    "Number: 45<br>\n",
    "FizzBuzz\n",
    "</p>\n",
    "</div>\n",
    "<hr/>"
   ]
  },
  {
   "cell_type": "code",
   "execution_count": 29,
   "metadata": {},
   "outputs": [
    {
     "name": "stdout",
     "output_type": "stream",
     "text": [
      "FizzBuzz\n"
     ]
    }
   ],
   "source": [
    "number = int(input(\"Number: \"))\n",
    "\n",
    "if number % 3 == 0 and number % 5 == 0:\n",
    "    # This condition must be evaluated first, because if this is true,\n",
    "    # also both of the following conditions are true\n",
    "    print(\"FizzBuzz\")\n",
    "elif number % 3 == 0:\n",
    "    print(\"Fizz\")\n",
    "elif number % 5 == 0:\n",
    "    print(\"Buzz\")"
   ]
  },
  {
   "cell_type": "markdown",
   "metadata": {},
   "source": [
    "## Nested conditionals\n",
    "Conditional statements can also be nested within other conditional statements. For example, the following program checks whether a number is above zero, and then whether it is odd or even:"
   ]
  },
  {
   "cell_type": "code",
   "execution_count": 30,
   "metadata": {},
   "outputs": [
    {
     "name": "stdout",
     "output_type": "stream",
     "text": [
      "The number is odd\n"
     ]
    }
   ],
   "source": [
    "number = int(input(\"Please type in a number: \"))\n",
    "\n",
    "if number > 0:\n",
    "    if number % 2 == 0:\n",
    "        print(\"The number is even\")\n",
    "    else:\n",
    "        print(\"The number is odd\")\n",
    "else:\n",
    "    print(\"The number is negative or zero\")"
   ]
  },
  {
   "cell_type": "markdown",
   "metadata": {},
   "source": [
    "With nested conditional statements it is crucial to get the indentations right. Indentations determine which branches are linked together. For example, an if branch and an else branch with the same amount of whitespace are determined to be branches of the same conditional statement.\n",
    "\n",
    "The same result can often be achieved using either nested conditional statements or conditions combined with logical operators. The example below is functionally no different from the example above, in the sense that it will print out the exactly same things with the same inputs:"
   ]
  },
  {
   "cell_type": "code",
   "execution_count": 31,
   "metadata": {},
   "outputs": [
    {
     "name": "stdout",
     "output_type": "stream",
     "text": [
      "The number is odd\n"
     ]
    }
   ],
   "source": [
    "number = int(input(\"Please type in a number: \"))\n",
    "\n",
    "if number > 0 and number % 2 == 0:\n",
    "    print(\"The number is even\")\n",
    "elif number > 0 and number % 2 != 0:\n",
    "    print(\"The number is odd\")\n",
    "else:\n",
    "    print(\"The number is negative or zero\")"
   ]
  },
  {
   "cell_type": "markdown",
   "metadata": {},
   "source": [
    "Neither approach is intrinsically better than the other, but in different situations one or the other may seem more logical. In this particular example most people tend to find the first version with nesting to be more intuitive."
   ]
  },
  {
   "cell_type": "markdown",
   "metadata": {},
   "source": [
    "<hr/>\n",
    "<div class=\"alert alert-danger alertsuccess\" style=\"margin-top: 20px\">\n",
    "<b><h3>Programming exercise:</h3></b>\n",
    "<p><b>Leap year<br></b>\n",
    "Generally, any year that is divisible by four is a leap year. However, if the year is additionally divisible by 100, it is a leap year only if it also divisible by 400.\n",
    "\n",
    "Please write a program which asks the user for a year, and then prints out whether that year is a leap year or not.\n",
    "\n",
    "Some examples:<br>\n",
    "Please type in a year: 2011<br>\n",
    "That year is not a leap year.\n",
    "\n",
    "Please type in a year: 2020<br>\n",
    "That year is a leap year.\n",
    "\n",
    "Please type in a year: 1800<br>\n",
    "That year is not a leap year.\n",
    "</p>\n",
    "</div>\n",
    "<hr/>"
   ]
  },
  {
   "cell_type": "code",
   "execution_count": 41,
   "metadata": {},
   "outputs": [
    {
     "name": "stdout",
     "output_type": "stream",
     "text": [
      "That year is not a leap year.\n"
     ]
    }
   ],
   "source": [
    "year = int(input(\"Please type in a year: \"))\n",
    "\n",
    "if year % 4 == 0:\n",
    "    if year % 100 != 0 or year % 400 == 0:\n",
    "        print(\"That year is a leap year.\")\n",
    "    else:\n",
    "        print(\"That year is not a leap year.\")\n",
    "else:\n",
    "    print(\"That year is not a leap year.\")"
   ]
  },
  {
   "cell_type": "markdown",
   "metadata": {},
   "source": [
    "OR"
   ]
  },
  {
   "cell_type": "code",
   "execution_count": 43,
   "metadata": {},
   "outputs": [
    {
     "name": "stdout",
     "output_type": "stream",
     "text": [
      "That year is a leap year.\n"
     ]
    }
   ],
   "source": [
    "year = int(input(\"Please type in a year: \"))\n",
    " \n",
    "# First, we make assumption that a year is not a leap year\n",
    "leap_year = False\n",
    " \n",
    "if year % 100 == 0:\n",
    "    if year % 400 == 0:\n",
    "        leap_year = True\n",
    "elif year % 4 == 0:\n",
    "    leap_year = True\n",
    " \n",
    "if leap_year:\n",
    "    print(\"That year is a leap year.\")\n",
    "else:\n",
    "    print(\"That year is not a leap year.\")\n",
    " "
   ]
  },
  {
   "cell_type": "markdown",
   "metadata": {},
   "source": [
    "<hr/>\n",
    "<div class=\"alert alert-danger alertsuccess\" style=\"margin-top: 20px\">\n",
    "<b><h3>Programming exercise:</h3></b>\n",
    "<p><b>Alphabetically in the middle<br></b>\n",
    "Please write a program which asks the user for three letters. The program should then print out whichever of the three letters would be in the middle if the letters were in alphabetical order.\n",
    "\n",
    "You may assume the letters will be either all uppercase, or all lowercase.\n",
    "\n",
    "Some examples of expected behaviour:<br>\n",
    "\n",
    "1st letter: x<br>\n",
    "2nd letter: c<br>\n",
    "3rd letter: p<br>\n",
    "The letter in the middle is p<br>\n",
    "\n",
    "1st letter: C<br>\n",
    "2nd letter: B<br>\n",
    "3rd letter: A<br>\n",
    "The letter in the middle is B\n",
    "</p>\n",
    "</div>\n",
    "<hr/>"
   ]
  },
  {
   "cell_type": "code",
   "execution_count": 65,
   "metadata": {},
   "outputs": [
    {
     "name": "stdout",
     "output_type": "stream",
     "text": [
      "The letter in the middle is 5\n"
     ]
    }
   ],
   "source": [
    "letter1 = input(\"1st letter: \")\n",
    "letter2 = input(\"2nd letter: \")\n",
    "letter3 = input(\"3rd letter: \")\n",
    "\n",
    "if letter1 > letter2 and letter1 > letter3:\n",
    "    if letter2 > letter3:\n",
    "        middle = letter2\n",
    "    else:\n",
    "        middle = letter3\n",
    "elif letter2 > letter1 and letter2 > letter3:\n",
    "    if letter1 > letter3:\n",
    "        middle = letter1\n",
    "    else:\n",
    "        middle = letter3\n",
    "else:\n",
    "    if letter1 > letter2:\n",
    "        middle = letter1\n",
    "    else:\n",
    "        middle = letter2\n",
    "        \n",
    "print(f\"The letter in the middle is {middle}\")"
   ]
  },
  {
   "cell_type": "markdown",
   "metadata": {},
   "source": [
    "<hr/>\n",
    "<div class=\"alert alert-danger alertsuccess\" style=\"margin-top: 20px\">\n",
    "<b><h3>Programming exercise:</h3></b>\n",
    "<p><b>Gift tax calculator<br></b>\n",
    "Some say paying taxes makes Finns happy, so let's see if the secret of happiness lies in one of the taxes set out in Finnish tax code.\n",
    "\n",
    "According to the Finnish Tax Administration, a gift is a transfer of property to another person against no compensation or payment. If the total value of the gifts you receive from the same donor in the course of 3 years is €5,000 or more, you must pay gift tax.\n",
    "\n",
    "When the gift is received from a close relative or a family member, the amount of tax to be paid is determined by the following table, which is also available on this website:<br>\n",
    "\n",
    "<table class=\"MuiTable-root\"><thead class=\"MuiTableHead-root\"><tr class=\"MuiTableRow-root MuiTableRow-head\"><th class=\"MuiTableCell-root MuiTableCell-head Table__StyledTableCell-sc-1s2xaqw-0 kaecOE\" role=\"columnheader\" scope=\"col\" style=\"text-align: center;\">Value of gift</th><th class=\"MuiTableCell-root MuiTableCell-head Table__StyledTableCell-sc-1s2xaqw-0 kaecOE\" role=\"columnheader\" scope=\"col\" style=\"text-align: center;\">Tax at the lower limit</th><th class=\"MuiTableCell-root MuiTableCell-head Table__StyledTableCell-sc-1s2xaqw-0 kaecOE\" role=\"columnheader\" scope=\"col\" style=\"text-align: center;\">Tax rate for the exceeding part (%)</th></tr></thead><tbody class=\"MuiTableBody-root\"><tr class=\"MuiTableRow-root\"><td class=\"MuiTableCell-root MuiTableCell-body Table__StyledTableCell-sc-1s2xaqw-0 kaecOE\" style=\"text-align: center;\">5 000 — 25 000</td><td class=\"MuiTableCell-root MuiTableCell-body Table__StyledTableCell-sc-1s2xaqw-0 kaecOE\" style=\"text-align: center;\">100</td><td class=\"MuiTableCell-root MuiTableCell-body Table__StyledTableCell-sc-1s2xaqw-0 kaecOE\" style=\"text-align: center;\">8</td></tr><tr class=\"MuiTableRow-root\"><td class=\"MuiTableCell-root MuiTableCell-body Table__StyledTableCell-sc-1s2xaqw-0 kaecOE\" style=\"text-align: center;\">25 000 — 55 000</td><td class=\"MuiTableCell-root MuiTableCell-body Table__StyledTableCell-sc-1s2xaqw-0 kaecOE\" style=\"text-align: center;\">1 700</td><td class=\"MuiTableCell-root MuiTableCell-body Table__StyledTableCell-sc-1s2xaqw-0 kaecOE\" style=\"text-align: center;\">10</td></tr><tr class=\"MuiTableRow-root\"><td class=\"MuiTableCell-root MuiTableCell-body Table__StyledTableCell-sc-1s2xaqw-0 kaecOE\" style=\"text-align: center;\">55 000 — 200 000</td><td class=\"MuiTableCell-root MuiTableCell-body Table__StyledTableCell-sc-1s2xaqw-0 kaecOE\" style=\"text-align: center;\">4 700</td><td class=\"MuiTableCell-root MuiTableCell-body Table__StyledTableCell-sc-1s2xaqw-0 kaecOE\" style=\"text-align: center;\">12</td></tr><tr class=\"MuiTableRow-root\"><td class=\"MuiTableCell-root MuiTableCell-body Table__StyledTableCell-sc-1s2xaqw-0 kaecOE\" style=\"text-align: center;\">200 000 — 1 000 000</td><td class=\"MuiTableCell-root MuiTableCell-body Table__StyledTableCell-sc-1s2xaqw-0 kaecOE\" style=\"text-align: center;\">22 100</td><td class=\"MuiTableCell-root MuiTableCell-body Table__StyledTableCell-sc-1s2xaqw-0 kaecOE\" style=\"text-align: center;\">15</td></tr><tr class=\"MuiTableRow-root\"><td class=\"MuiTableCell-root MuiTableCell-body Table__StyledTableCell-sc-1s2xaqw-0 kaecOE\" style=\"text-align: center;\">1 000 000 —</td><td class=\"MuiTableCell-root MuiTableCell-body Table__StyledTableCell-sc-1s2xaqw-0 kaecOE\" style=\"text-align: center;\">142 100</td><td class=\"MuiTableCell-root MuiTableCell-body Table__StyledTableCell-sc-1s2xaqw-0 kaecOE\" style=\"text-align: center;\">17</td></tr></tbody></table>\n",
    "\n",
    "So, for a gift of 6 000 euros the recipient pays a tax of 180 euros (100 + (6 000 - 5 000) * 0.08). Similarly, for a gift of 75 000 euros the recipient pays a tax of 7 100 euros (4 700 + (75 000 - 55 000) * 0.12).\n",
    "\n",
    "Please write a program which calculates the correct amount of tax for a gift from a close relative. Have a look at the examples below to see what is expected. Notice the lack of thousands separators in the input values - you may assume there will be no spaces or other thousands separators in the numbers in the input, as we haven't yet covered dealing with these.\n",
    "\n",
    "Value of gift: 3500<br>\n",
    "No tax!<br>\n",
    "\n",
    "Value of gift: 5000<br>\n",
    "Amount of tax: 100.0 euros<br>\n",
    "\n",
    "Value of gift: 27500<br>\n",
    "Amount of tax: 1950.0 euros\n",
    "</p>\n",
    "</div>\n",
    "<hr/>"
   ]
  },
  {
   "cell_type": "code",
   "execution_count": 83,
   "metadata": {},
   "outputs": [
    {
     "name": "stdout",
     "output_type": "stream",
     "text": [
      "Amount of tax: 612.0 euros\n"
     ]
    }
   ],
   "source": [
    "value_of_gift = int(input(\"Value of gift:\"))\n",
    "\n",
    "if value_of_gift < 5000:\n",
    "    total_tax = 0\n",
    "elif 25000 >= value_of_gift >= 5000:\n",
    "    tax_limit = 100\n",
    "    tax_rate = 0.08\n",
    "    total_tax = (tax_limit + ((value_of_gift - 5000) * tax_rate))\n",
    "elif 55000 >= value_of_gift > 25000:\n",
    "    tax_limit = 1700\n",
    "    tax_rate = 0.1\n",
    "    total_tax = (tax_limit + ((value_of_gift - 25000) * tax_rate))\n",
    "elif 200000 >= value_of_gift > 55000:\n",
    "    tax_limit = 4700\n",
    "    tax_rate = 0.12\n",
    "    total_tax = (tax_limit + ((value_of_gift - 55000) * tax_rate))\n",
    "elif 1000000 >= value_of_gift > 200000:\n",
    "    tax_limit = 22100\n",
    "    tax_rate = 0.15\n",
    "    total_tax = (tax_limit + ((value_of_gift - 200000) * tax_rate))\n",
    "else:\n",
    "    tax_limit = 142100\n",
    "    tax_rate = 0.17\n",
    "    total_tax = (tax_limit + ((value_of_gift - 1000000) * tax_rate))\n",
    "\n",
    "\n",
    "if total_tax == 0:\n",
    "    print(\"No tax!\")\n",
    "else:\n",
    "    print(f\"Amount of tax: {total_tax} euros\")"
   ]
  },
  {
   "cell_type": "code",
   "execution_count": null,
   "metadata": {},
   "outputs": [],
   "source": []
  }
 ],
 "metadata": {
  "kernelspec": {
   "display_name": "Python 3",
   "language": "python",
   "name": "python3"
  },
  "language_info": {
   "codemirror_mode": {
    "name": "ipython",
    "version": 3
   },
   "file_extension": ".py",
   "mimetype": "text/x-python",
   "name": "python",
   "nbconvert_exporter": "python",
   "pygments_lexer": "ipython3",
   "version": "3.12.1"
  }
 },
 "nbformat": 4,
 "nbformat_minor": 2
}
