{
 "cells": [
  {
   "cell_type": "markdown",
   "metadata": {},
   "source": [
    "# Conditional statements\n",
    "\n",
    "Thus far, every program we have written has been executed line by line in order. Instead of executing every line of code every single time a program is run, it is often useful to create sections of the program which are are only executed in certain situations.\n",
    "\n",
    "For example, the following code checks whether the user is of age:"
   ]
  },
  {
   "cell_type": "code",
   "execution_count": 1,
   "metadata": {},
   "outputs": [
    {
     "name": "stdout",
     "output_type": "stream",
     "text": [
      "You are of age!\n",
      "Here's a copy of GTA6 for you.\n",
      "Next customer, please!\n"
     ]
    }
   ],
   "source": [
    "age = int(input(\"How old are you? \"))\n",
    "\n",
    "if age > 17:\n",
    "    print(\"You are of age!\")\n",
    "    print(\"Here's a copy of GTA6 for you.\")\n",
    "\n",
    "print(\"Next customer, please!\")"
   ]
  },
  {
   "cell_type": "markdown",
   "metadata": {},
   "source": [
    "When the user is over the age of 17, the execution of the program should look like this:\n",
    "\n",
    "<code>\n",
    "How old are you? 18<br>\n",
    "You are of age!<br>\n",
    "Here's a copy of GTA6 for you.<br>\n",
    "Next customer, please!\n",
    "</code>\n",
    "\n",
    "If the user is 17 or under, only this is printed out:\n",
    "\n",
    "<code>\n",
    "How old are you? 16<br>\n",
    "Next customer, please!\n",
    "</code>\n",
    "\n",
    "These examples show us that the value given as input affects which parts of the program are executed. The program contains a conditional statement with a block of code which is executed only if the condition in the statement is true.\n",
    "\n",
    "![Conditional Statement](https://programming-23.mooc.fi/static/416cb381134e2a6b8d72caecc6260d5a/30f41/1_5_1.webp)\n",
    "\n"
   ]
  },
  {
   "cell_type": "markdown",
   "metadata": {},
   "source": [
    "In a conditional statement the keyword if is followed by a condition, such as a comparison of two values. The code block following this header line is only executed if the condition is true.\n",
    "\n",
    "Notice the colon character following the if header. In the following code there is no colon:\n",
    "\n",
    "Upon execution this causes an error:"
   ]
  },
  {
   "cell_type": "code",
   "execution_count": 2,
   "metadata": {},
   "outputs": [
    {
     "ename": "SyntaxError",
     "evalue": "expected ':' (1964406521.py, line 4)",
     "output_type": "error",
     "traceback": [
      "\u001b[1;36m  Cell \u001b[1;32mIn[2], line 4\u001b[1;36m\u001b[0m\n\u001b[1;33m    if age > 17\u001b[0m\n\u001b[1;37m               ^\u001b[0m\n\u001b[1;31mSyntaxError\u001b[0m\u001b[1;31m:\u001b[0m expected ':'\n"
     ]
    }
   ],
   "source": [
    "age = 10\n",
    "\n",
    "# no colon at the end of the following line\n",
    "if age > 17\n",
    "    print(\"You are of age.\")"
   ]
  },
  {
   "cell_type": "markdown",
   "metadata": {},
   "source": [
    "## Comparison operators\n",
    "\n",
    "Very typically conditions consist of comparing two values. Here is the most common comparison operators used in Python:"
   ]
  },
  {
   "cell_type": "code",
   "execution_count": 4,
   "metadata": {},
   "outputs": [
    {
     "name": "stdout",
     "output_type": "stream",
     "text": [
      "False\n",
      "True\n",
      "True\n",
      "True\n",
      "False\n",
      "False\n"
     ]
    }
   ],
   "source": [
    "a = 10\n",
    "b = 5\n",
    "\n",
    "print(a == b) # Equal to\n",
    "print(a != b) # Not equal to\n",
    "print(a > b) # Greater than\n",
    "print(a >= b) # Greater than or Equal to\n",
    "print(a < b) # Less than\n",
    "print(a <= b) # Less than or equal to"
   ]
  },
  {
   "cell_type": "markdown",
   "metadata": {},
   "source": [
    "Let's have a look at a program which prints out different things based on whether the number the user inputs is negative, positive, or equal to zero:"
   ]
  },
  {
   "cell_type": "code",
   "execution_count": 6,
   "metadata": {},
   "outputs": [
    {
     "name": "stdout",
     "output_type": "stream",
     "text": [
      "The number is zero!\n"
     ]
    }
   ],
   "source": [
    "num = int(input(\"Please type in a number: \"))\n",
    "\n",
    "if num > 0:\n",
    "    print(\"The number is positive!\")\n",
    "    \n",
    "if num < 0:\n",
    "    print(\"The number is negative!\")\n",
    "    \n",
    "if num == 0:\n",
    "    print(\"The number is zero!\")"
   ]
  },
  {
   "cell_type": "markdown",
   "metadata": {},
   "source": [
    "## Indentation\n",
    "\n",
    "Python recognises that a block of code is part of a conditional statement if each line of code in the block is indented the same. That is, there should be a bit of whitespace at the beginning of every line of code within the code block. Each line should have the same amount of whitespace.\n",
    "\n",
    "For example:"
   ]
  },
  {
   "cell_type": "code",
   "execution_count": 7,
   "metadata": {},
   "outputs": [
    {
     "name": "stdout",
     "output_type": "stream",
     "text": [
      "You knew the password!\n",
      "You must be either the intended user...\n",
      "...or quite an accomplished hacker.\n",
      "The program has finished its execution. Thanks and bye!\n"
     ]
    }
   ],
   "source": [
    "password = input(\"Please type in a password: \")\n",
    "\n",
    "if password == \"kittycat\":\n",
    "    print(\"You knew the password!\")\n",
    "    print(\"You must be either the intended user...\")\n",
    "    print(\"...or quite an accomplished hacker.\")\n",
    "\n",
    "print(\"The program has finished its execution. Thanks and bye!\")"
   ]
  },
  {
   "cell_type": "markdown",
   "metadata": {},
   "source": [
    "<hr/>\n",
    "<div class=\"alert alert-danger alertsuccess\" style=\"margin-top: 20px\">\n",
    "<b><h3>Programming exercise:</h3></b>\n",
    "<p><b>Orwell<br></b>\n",
    "Please write a program which asks the user for an integer number. The program should print out \"Orwell\" if the number is exactly 1984, and otherwise do nothing.<br>\n",
    "\n",
    "\n",
    "<code>\n",
    "Please type in a number: 2020<br>\n",
    "\n",
    "Please type in a number: 1984<br>\n",
    "Orwell\n",
    "</code>\n",
    "</p>\n",
    "</div>\n",
    "<hr/>"
   ]
  },
  {
   "cell_type": "code",
   "execution_count": 9,
   "metadata": {},
   "outputs": [
    {
     "name": "stdout",
     "output_type": "stream",
     "text": [
      "Orwell\n"
     ]
    }
   ],
   "source": [
    "num = int(input(\"Please type in a number: \"))\n",
    "\n",
    "if num == 1984:\n",
    "    print(\"Orwell\")"
   ]
  },
  {
   "cell_type": "markdown",
   "metadata": {},
   "source": [
    "<hr/>\n",
    "<div class=\"alert alert-danger alertsuccess\" style=\"margin-top: 20px\">\n",
    "<b><h3>Programming exercise:</h3></b>\n",
    "<p><b>Absolute value<br></b>\n",
    "Please write a program which asks the user for an integer number. If the number is less than zero, the program should print out the number multiplied by -1. Otherwise the program prints out the number as is. Please have a look at the examples of expected behaviour below.<br>\n",
    "\n",
    "\n",
    "<code>\n",
    "Please type in a number: -7<br>\n",
    "The absolute value of this number is 7\n",
    "\n",
    "Please type in a number: 1<br>\n",
    "The absolute value of this number is 1\n",
    "\n",
    "Please type in a number: -99<br>\n",
    "The absolute value of this number is 99\n",
    "</code>\n",
    "</p>\n",
    "</div>\n",
    "<hr/>"
   ]
  },
  {
   "cell_type": "code",
   "execution_count": 12,
   "metadata": {},
   "outputs": [
    {
     "name": "stdout",
     "output_type": "stream",
     "text": [
      "The absolute value of this number is 99\n"
     ]
    }
   ],
   "source": [
    "num = int(input(\"Please type in a number: \"))\n",
    "\n",
    "if num < 0:\n",
    "    print(f\"The absolute value of this number is {num * -1}\")\n",
    "    \n",
    "if num >= 0:\n",
    "    print(f\"The absolute value of this number is {num}\")"
   ]
  },
  {
   "cell_type": "markdown",
   "metadata": {},
   "source": [
    "<hr/>\n",
    "<div class=\"alert alert-danger alertsuccess\" style=\"margin-top: 20px\">\n",
    "<b><h3>Programming exercise:</h3></b>\n",
    "<p><b>Soup or no soup<br></b>\n",
    "Please write a program which asks for the user's name. If the name is anything but \"Jerry\", the program then asks for the number of portions and prints out the total cost. The price of a single portion is 5.90.\n",
    "\n",
    "Two examples of the program's execution:<br>\n",
    "\n",
    "\n",
    "<code>\n",
    "Please tell me your name: Kramer<br>\n",
    "How many portions of soup? 2<br>\n",
    "The total cost is 11.8<br>\n",
    "Next please!\n",
    "\n",
    "Please tell me your name: Jerry<br>\n",
    "Next please!\n",
    "</code>\n",
    "</p>\n",
    "</div>\n",
    "<hr/>"
   ]
  },
  {
   "cell_type": "code",
   "execution_count": 2,
   "metadata": {},
   "outputs": [
    {
     "name": "stdout",
     "output_type": "stream",
     "text": [
      "Next please!\n"
     ]
    }
   ],
   "source": [
    "name = input(\"Please tell me your name: \")\n",
    "\n",
    "if name != \"Jerry\":\n",
    "    soups = int(input(\"How many portions of soup? \"))\n",
    "    print(f\"The total cost is {soups * 5.90}\")\n",
    "    \n",
    "print(\"Next please!\")"
   ]
  },
  {
   "cell_type": "markdown",
   "metadata": {},
   "source": [
    "<hr/>\n",
    "<div class=\"alert alert-danger alertsuccess\" style=\"margin-top: 20px\">\n",
    "<b><h3>Programming exercise:</h3></b>\n",
    "<p><b>Order of magnitude<br></b>\n",
    "Please write a program which asks the user for an integer number. The program should then print out the magnitude of the number according to the following examples.<br>\n",
    "\n",
    "<code>\n",
    "Please type in a number: 950<br>\n",
    "This number is smaller than 1000<br>\n",
    "Thank you!<br>\n",
    "\n",
    "Please type in a number: 59<br>\n",
    "This number is smaller than 1000<br>\n",
    "This number is smaller than 100<br>\n",
    "Thank you!<br>\n",
    "\n",
    "Please type in a number: 2<br>\n",
    "This number is smaller than 1000<br>\n",
    "This number is smaller than 100<br>\n",
    "This number is smaller than 10<br>\n",
    "Thank you!<br>\n",
    "\n",
    "Please type in a number: 1123<br>\n",
    "Thank you!\n",
    "</code>\n",
    "</p>\n",
    "</div>\n",
    "<hr/>"
   ]
  },
  {
   "cell_type": "code",
   "execution_count": 1,
   "metadata": {},
   "outputs": [
    {
     "name": "stdout",
     "output_type": "stream",
     "text": [
      "Thank you!\n"
     ]
    }
   ],
   "source": [
    "number = int(input(\"Please type in a number: \"))\n",
    "if number < 1000:\n",
    "    print(\"This number is smaller than 1000\")\n",
    " \n",
    "if number < 100:\n",
    "    print(\"This number is smaller than 100\")\n",
    " \n",
    "if number < 10:\n",
    "    print(\"This number is smaller than 10\")\n",
    " \n",
    "print(\"Thank you!\")"
   ]
  },
  {
   "cell_type": "markdown",
   "metadata": {},
   "source": [
    "## Boolean values and Boolean expressions\n",
    "Any condition used in a conditional statement will result in a truth value, that is, either true or false. For example, the condition a < 5 is true if a is less than 5, and false if a is equal to or greater than 5.\n",
    "\n",
    "These types of values are often called Boolean values, named after the English mathematician George Boole. In Python they are handled by the bool data type. Variables of type bool can only have two values: True or False.\n",
    "\n",
    "Any bit of code that results in a Boolean value is called a Boolean expression. For example, the condition in a conditional statement is always a Boolean expression, and the words condition and Boolean expression can often be used interchangeably.\n",
    "\n",
    "The result of a Boolean expression can be stored in a variable just like the result of any numerical calculation:"
   ]
  },
  {
   "cell_type": "code",
   "execution_count": 3,
   "metadata": {},
   "outputs": [
    {
     "name": "stdout",
     "output_type": "stream",
     "text": [
      "True\n",
      "a is less than 5\n"
     ]
    }
   ],
   "source": [
    "a = 3\n",
    "condition = a < 5\n",
    "print(condition)\n",
    "\n",
    "if condition:\n",
    "    print(\"a is less than 5\")"
   ]
  },
  {
   "cell_type": "markdown",
   "metadata": {},
   "source": [
    "The Python keywords True and False can also be used directly. In the following example the print command is executed every time, because the value of the condition is True:"
   ]
  },
  {
   "cell_type": "code",
   "execution_count": 4,
   "metadata": {},
   "outputs": [
    {
     "name": "stdout",
     "output_type": "stream",
     "text": [
      "This is printed every time.\n"
     ]
    }
   ],
   "source": [
    "condition = True\n",
    "if condition:\n",
    "    print(\"This is printed every time.\")"
   ]
  },
  {
   "cell_type": "markdown",
   "metadata": {},
   "source": [
    "A program like this is not very useful, but later on during the course you will see examples of Boolean variables coming in very handy."
   ]
  },
  {
   "cell_type": "markdown",
   "metadata": {},
   "source": [
    "<hr/>\n",
    "<div class=\"alert alert-danger alertsuccess\" style=\"margin-top: 20px\">\n",
    "<b><h3>Programming exercise:</h3></b>\n",
    "<p><b>Calculator<br></b>\n",
    "Please write a program which asks the user for two numbers and an operation. If the operation is add, multiply or subtract, the program should calculate and print out the result of the operation with the given numbers. If the user types in anything else, the program should print out nothing.\n",
    "\n",
    "Some examples of expected behaviour:<br>\n",
    "\n",
    "<code>\n",
    "Number 1: 10<br>\n",
    "Number 2: 17<br>\n",
    "Operation: add<br>\n",
    "10 + 17 = 27\n",
    "\n",
    "Number 1: 4<br>\n",
    "Number 2: 6<br>\n",
    "Operation: multiply<br>4 * 6 = 24\n",
    "\n",
    "Number 1: 4<br>\n",
    "Number 2: 6<br>\n",
    "Operation: subtract<br>\n",
    "4 - 6 = -2\n",
    "</code>\n",
    "</p>\n",
    "</div>\n",
    "<hr/>"
   ]
  },
  {
   "cell_type": "code",
   "execution_count": 5,
   "metadata": {},
   "outputs": [
    {
     "name": "stdout",
     "output_type": "stream",
     "text": [
      "10 - 5 = 5\n"
     ]
    }
   ],
   "source": [
    "# Write your solution here\n",
    "number1 = int(input(\"Number 1: \"))\n",
    "number2 = int(input(\"Number 2: \"))\n",
    "\n",
    "operation = input(\"Operation: \")\n",
    "\n",
    "if operation == \"add\":\n",
    "    print(f\"{number1} + {number2} = {number1 + number2}\")\n",
    "\n",
    "if operation == \"subtract\":\n",
    "    print(f\"{number1} - {number2} = {number1 - number2}\")\n",
    "\n",
    "if operation == \"multiply\":\n",
    "    print(f\"{number1} * {number2} = {number1 * number2}\")"
   ]
  },
  {
   "cell_type": "markdown",
   "metadata": {},
   "source": [
    "<hr/>\n",
    "<div class=\"alert alert-danger alertsuccess\" style=\"margin-top: 20px\">\n",
    "<b><h3>Programming exercise:</h3></b>\n",
    "<p><b>Temperatures<br></b>\n",
    "Please write a program which asks the user for a temperature in degrees Fahrenheit, and then prints out the same in degrees Celsius. If the converted temperature falls below zero degrees Celsius, the program should also print out \"Brr! It's cold in here!\".\n",
    "\n",
    "The formula for converting degrees Fahrenheit to degrees Celsius can be found easily by any search engine of your choice.\n",
    "\n",
    "Two examples of expected behaviour:<br>\n",
    "\n",
    "<code>\n",
    "Please type in a temperature (F): 101<br>\n",
    "101 degrees Fahrenheit equals 38.333333333333336 degrees Celsius<br>\n",
    "\n",
    "Please type in a temperature (F): 21<br>\n",
    "21 degrees Fahrenheit equals -6.111111111111111 degrees Celsius<br>\n",
    "Brr! It's cold in here!\n",
    "</code>\n",
    "</p>\n",
    "</div>\n",
    "<hr/>"
   ]
  },
  {
   "cell_type": "code",
   "execution_count": 8,
   "metadata": {},
   "outputs": [
    {
     "name": "stdout",
     "output_type": "stream",
     "text": [
      "21 degrees Fahrenheit equals -6.111111111111111 degrees Celsius\n",
      "Brr! It's cold in here!\n"
     ]
    }
   ],
   "source": [
    "fahrenheit = int(input(\"Please type in a temperature (F): \"))\n",
    "\n",
    "celsius = ((fahrenheit - 32)/1.8)\n",
    "\n",
    "if celsius < 0:\n",
    "    print(f\"{fahrenheit} degrees Fahrenheit equals {celsius} degrees Celsius\\nBrr! It's cold in here!\")\n",
    "\n",
    "if celsius >= 0:\n",
    "    print(f\"{fahrenheit} degrees Fahrenheit equals {celsius} degrees Celsius\")"
   ]
  },
  {
   "cell_type": "markdown",
   "metadata": {},
   "source": [
    "OR"
   ]
  },
  {
   "cell_type": "code",
   "execution_count": 9,
   "metadata": {},
   "outputs": [
    {
     "name": "stdout",
     "output_type": "stream",
     "text": [
      "101 degrees Fahrenheit equals 38.333333333333336 degrees Celsius\n"
     ]
    }
   ],
   "source": [
    "temperature_f = int(input(\"Please type in a temperature (F): \"))\n",
    " \n",
    "temperature_c = (temperature_f - 32) * 5/9\n",
    " \n",
    "print(f\"{temperature_f} degrees Fahrenheit equals {temperature_c} degrees Celsius\")\n",
    " \n",
    "if temperature_c < 0:\n",
    "    print(\"Brr! It's cold in here!\")"
   ]
  },
  {
   "cell_type": "markdown",
   "metadata": {},
   "source": [
    "<hr/>\n",
    "<div class=\"alert alert-danger alertsuccess\" style=\"margin-top: 20px\">\n",
    "<b><h3>Programming exercise:</h3></b>\n",
    "<p><b>Daily wages<br></b>\n",
    "Please write a program which asks for the hourly wage, hours worked, and the day of the week. The program should then print out the daily wages, which equal hourly wage multiplied by hours worked, except on Sundays when the hourly wage is doubled.<br><br>\n",
    "\n",
    "<code>\n",
    "Hourly wage: 8.5<br>\n",
    "Hours worked: 3<br>\n",
    "Day of the week: Monday<br>\n",
    "Daily wages: 25.5 euros<br>\n",
    "\n",
    "Hourly wage: 12.5<br>\n",
    "Hours worked: 10<br>\n",
    "Day of the week: Sunday<br>\n",
    "Daily wages: 250.0 euros\n",
    "</code>\n",
    "</p>\n",
    "</div>\n",
    "<hr/>"
   ]
  },
  {
   "cell_type": "code",
   "execution_count": 12,
   "metadata": {},
   "outputs": [
    {
     "name": "stdout",
     "output_type": "stream",
     "text": [
      "Daily wages: 100.0 euros\n"
     ]
    }
   ],
   "source": [
    "# Write your solution here\n",
    "hourly_wage = float(input(\"Hourly wage: \"))\n",
    "hours_worked = int(input(\"Hours worked: \"))\n",
    "weekday = input(\"Day of the week: \")\n",
    " \n",
    "if weekday == \"Sunday\":\n",
    "    # The salary is double on Sundays\n",
    "    hourly_wage *= 2\n",
    " \n",
    "total_wage = hourly_wage * hours_worked\n",
    "print(f\"Daily wages: {total_wage} euros\")"
   ]
  },
  {
   "cell_type": "code",
   "execution_count": null,
   "metadata": {},
   "outputs": [],
   "source": []
  }
 ],
 "metadata": {
  "kernelspec": {
   "display_name": "Python 3",
   "language": "python",
   "name": "python3"
  },
  "language_info": {
   "codemirror_mode": {
    "name": "ipython",
    "version": 3
   },
   "file_extension": ".py",
   "mimetype": "text/x-python",
   "name": "python",
   "nbconvert_exporter": "python",
   "pygments_lexer": "ipython3",
   "version": "3.12.1"
  }
 },
 "nbformat": 4,
 "nbformat_minor": 2
}
