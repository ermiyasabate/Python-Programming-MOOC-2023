{
 "cells": [
  {
   "cell_type": "markdown",
   "metadata": {},
   "source": [
    "# Arithmetic operations\n",
    "In the previous sections you've seen examples with basic arithmetics. In the following table you can see the most common arithmetic operators in Python, with examples:"
   ]
  },
  {
   "cell_type": "code",
   "execution_count": 1,
   "metadata": {},
   "outputs": [
    {
     "name": "stdout",
     "output_type": "stream",
     "text": [
      "6\n",
      "7.5\n",
      "-246\n",
      "4.5\n",
      "4\n",
      "1\n",
      "8\n"
     ]
    }
   ],
   "source": [
    "print(2 + 4) # Addition\n",
    "print(10 - 2.5) # Subtraction\n",
    "print(-2 * 123) # Multiplication\n",
    "print(9 / 2) # Division (floating point result)\n",
    "print(9 // 2) # Division (integer result)\n",
    "print(9 % 2) # Modulo\n",
    "print(2 ** 3)# Exponentiation\n"
   ]
  },
  {
   "cell_type": "markdown",
   "metadata": {},
   "source": [
    "The order of operations is familiar from mathematics: first calculate the exponents, then multiplication and division, and finally addition and subtraction. The order can be changed with parentheses.\n",
    "\n",
    "For example this bit of code"
   ]
  },
  {
   "cell_type": "code",
   "execution_count": 2,
   "metadata": {},
   "outputs": [
    {
     "name": "stdout",
     "output_type": "stream",
     "text": [
      "11\n",
      "15\n"
     ]
    }
   ],
   "source": [
    "print(2 + 3 * 3)\n",
    "print((2 + 3) * 3)"
   ]
  },
  {
   "cell_type": "markdown",
   "metadata": {},
   "source": [
    "## Operands, operators and data types\n",
    "A calculation usually consists of operands and operators:\n",
    "\n",
    "![Arithmetic Operations](https://programming-23.mooc.fi/static/f717f6a68e7b1bd3b3fb9cbe2898da5b/9cb4e/1_4_1.png)\n",
    "\n",
    "The data type of an operand usually determines the data type of the result: if two integers are added together, the result will also be an integer.\n",
    "\n",
    "If a floating point number is subtracted from another floating point number, the result is a floating point number. In fact, if a single one of the operands in an expression is a floating point number, the result will also be a floating point number, regardless of the other operands.\n",
    "\n",
    "Division / is an exception to this rule. Its result is a floating point number, even if the operands are integers. For example 1 / 5 will result in the floating point number 0.2.\n",
    "\n",
    "Example:\n"
   ]
  },
  {
   "cell_type": "code",
   "execution_count": 3,
   "metadata": {},
   "outputs": [
    {
     "name": "stdout",
     "output_type": "stream",
     "text": [
      "The BMI is 23.037177063642087\n"
     ]
    }
   ],
   "source": [
    "height = 172.5\n",
    "weight = 68.55\n",
    "\n",
    "# the Body Mass Index, or BMI, is calculated by dividing body mass with the square of height\n",
    "# height is converted into metres in the formula\n",
    "\n",
    "bmi = weight / (height / 100) ** 2\n",
    "\n",
    "print(f\"The BMI is {bmi}\")"
   ]
  },
  {
   "cell_type": "markdown",
   "metadata": {},
   "source": [
    "Notice Python also has an integer division operator //. If the operands are integers, it will produce an integer. The result is rounded down to the nearest integer. For example this program"
   ]
  },
  {
   "cell_type": "code",
   "execution_count": 4,
   "metadata": {},
   "outputs": [
    {
     "name": "stdout",
     "output_type": "stream",
     "text": [
      "/ operator 2.3333333333333335\n",
      "// operator 2\n"
     ]
    }
   ],
   "source": [
    "x = 7\n",
    "y = 3\n",
    "\n",
    "print(f\"/ operator {x/y}\")\n",
    "print(f\"// operator {x//y}\")"
   ]
  },
  {
   "cell_type": "markdown",
   "metadata": {},
   "source": [
    "## Numbers as input\n",
    "We have already used the input command to read in strings from the user. The same function can be used to read in numbers, but the string produced by the function must then be converted to a numeric data type in the program code. In the previous section we cast integers as strings with the str function. The same basic principle applies here, but the name of the casting function will be different.\n",
    "\n",
    "A string can be converted into an integer with the function int. The following program asks the user for their year of birth and stores it in the variable input_str. The program then creates another variable year, which contains the year converted into an integer. After this the calculation 2021-year is possible, using the user-supplied value."
   ]
  },
  {
   "cell_type": "code",
   "execution_count": 5,
   "metadata": {},
   "outputs": [
    {
     "name": "stdout",
     "output_type": "stream",
     "text": [
      "Your age at the end of the year 2021: 28\n"
     ]
    }
   ],
   "source": [
    "input_str = input(\"Which year were you born? \")\n",
    "year = int(input_str)\n",
    "\n",
    "print(f\"Your age at the end of the year 2021: {2024 - year}\")"
   ]
  },
  {
   "cell_type": "markdown",
   "metadata": {},
   "source": [
    "Usually you do not need to create two separate variables (like input_str and year above) to read a number value from the user. Instead, reading the input with the input function and converting it with the int function can be achieved in one go:"
   ]
  },
  {
   "cell_type": "code",
   "execution_count": 6,
   "metadata": {},
   "outputs": [
    {
     "name": "stdout",
     "output_type": "stream",
     "text": [
      "Your age at the end of the year 2021: 28\n"
     ]
    }
   ],
   "source": [
    "input = int(input(\"Which year were you born? \"))\n",
    "\n",
    "print(f\"Your age at the end of the year 2021: {2024 - input}\")"
   ]
  },
  {
   "cell_type": "markdown",
   "metadata": {},
   "source": [
    "Similarly, a string can be converted into a floating point number with the function float. This programs asks the user for their height and weight, and uses these to calculate their BMI:"
   ]
  },
  {
   "cell_type": "code",
   "execution_count": 5,
   "metadata": {},
   "outputs": [
    {
     "name": "stdout",
     "output_type": "stream",
     "text": [
      "The BMI is 28.02137829801649\n"
     ]
    }
   ],
   "source": [
    "height = float(input(\"What is your height? \"))\n",
    "weight = float(input(\"What is your weight? \"))\n",
    "\n",
    "height = height / 100\n",
    "bmi = weight / height ** 2\n",
    "\n",
    "print(f\"The BMI is {bmi}\")"
   ]
  },
  {
   "cell_type": "markdown",
   "metadata": {},
   "source": [
    "<hr/>\n",
    "<div class=\"alert alert-danger alertsuccess\" style=\"margin-top: 20px\">\n",
    "<b><h3>Programming exercise:</h3></b>\n",
    "<p><b>Times five<br></b>\n",
    "Please write a program which asks the user for a number. The program then prints out the number multiplied by five.\n",
    "\n",
    "The program should function as follows:<br>\n",
    "\n",
    "<code>\n",
    "Please type in a number: 3<br>\n",
    "3 times 5 is 15<br>\n",
    "</code>\n",
    "</p>\n",
    "</div>\n",
    "<hr/>"
   ]
  },
  {
   "cell_type": "code",
   "execution_count": 4,
   "metadata": {},
   "outputs": [
    {
     "name": "stdout",
     "output_type": "stream",
     "text": [
      "3 times 5 is 15\n"
     ]
    }
   ],
   "source": [
    "num = int(input(\"Please type in a number: \"))\n",
    "print(f\"{num} times 5 is {num * 5}\")\n"
   ]
  },
  {
   "cell_type": "code",
   "execution_count": null,
   "metadata": {},
   "outputs": [],
   "source": []
  }
 ],
 "metadata": {
  "kernelspec": {
   "display_name": "Python 3",
   "language": "python",
   "name": "python3"
  },
  "language_info": {
   "codemirror_mode": {
    "name": "ipython",
    "version": 3
   },
   "file_extension": ".py",
   "mimetype": "text/x-python",
   "name": "python",
   "nbconvert_exporter": "python",
   "pygments_lexer": "ipython3",
   "version": "3.12.1"
  }
 },
 "nbformat": 4,
 "nbformat_minor": 2
}
