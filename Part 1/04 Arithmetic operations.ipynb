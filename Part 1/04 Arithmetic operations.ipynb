{
 "cells": [
  {
   "cell_type": "markdown",
   "metadata": {},
   "source": [
    "# Arithmetic operations\n",
    "In the previous sections you've seen examples with basic arithmetics. In the following table you can see the most common arithmetic operators in Python, with examples:"
   ]
  },
  {
   "cell_type": "code",
   "execution_count": 1,
   "metadata": {},
   "outputs": [
    {
     "name": "stdout",
     "output_type": "stream",
     "text": [
      "6\n",
      "7.5\n",
      "-246\n",
      "4.5\n",
      "4\n",
      "1\n",
      "8\n"
     ]
    }
   ],
   "source": [
    "print(2 + 4) # Addition\n",
    "print(10 - 2.5) # Subtraction\n",
    "print(-2 * 123) # Multiplication\n",
    "print(9 / 2) # Division (floating point result)\n",
    "print(9 // 2) # Division (integer result)\n",
    "print(9 % 2) # Modulo\n",
    "print(2 ** 3)# Exponentiation\n"
   ]
  },
  {
   "cell_type": "markdown",
   "metadata": {},
   "source": [
    "The order of operations is familiar from mathematics: first calculate the exponents, then multiplication and division, and finally addition and subtraction. The order can be changed with parentheses.\n",
    "\n",
    "For example this bit of code"
   ]
  },
  {
   "cell_type": "code",
   "execution_count": 2,
   "metadata": {},
   "outputs": [
    {
     "name": "stdout",
     "output_type": "stream",
     "text": [
      "11\n",
      "15\n"
     ]
    }
   ],
   "source": [
    "print(2 + 3 * 3)\n",
    "print((2 + 3) * 3)"
   ]
  },
  {
   "cell_type": "markdown",
   "metadata": {},
   "source": [
    "## Operands, operators and data types\n",
    "A calculation usually consists of operands and operators:\n",
    "\n",
    "![Arithmetic Operations](https://programming-23.mooc.fi/static/f717f6a68e7b1bd3b3fb9cbe2898da5b/9cb4e/1_4_1.png)\n",
    "\n",
    "The data type of an operand usually determines the data type of the result: if two integers are added together, the result will also be an integer.\n",
    "\n",
    "If a floating point number is subtracted from another floating point number, the result is a floating point number. In fact, if a single one of the operands in an expression is a floating point number, the result will also be a floating point number, regardless of the other operands.\n",
    "\n",
    "Division / is an exception to this rule. Its result is a floating point number, even if the operands are integers. For example 1 / 5 will result in the floating point number 0.2.\n",
    "\n",
    "Example:\n"
   ]
  },
  {
   "cell_type": "code",
   "execution_count": 3,
   "metadata": {},
   "outputs": [
    {
     "name": "stdout",
     "output_type": "stream",
     "text": [
      "The BMI is 23.037177063642087\n"
     ]
    }
   ],
   "source": [
    "height = 172.5\n",
    "weight = 68.55\n",
    "\n",
    "# the Body Mass Index, or BMI, is calculated by dividing body mass with the square of height\n",
    "# height is converted into metres in the formula\n",
    "\n",
    "bmi = weight / (height / 100) ** 2\n",
    "\n",
    "print(f\"The BMI is {bmi}\")"
   ]
  },
  {
   "cell_type": "markdown",
   "metadata": {},
   "source": [
    "Notice Python also has an integer division operator //. If the operands are integers, it will produce an integer. The result is rounded down to the nearest integer. For example this program"
   ]
  },
  {
   "cell_type": "code",
   "execution_count": 4,
   "metadata": {},
   "outputs": [
    {
     "name": "stdout",
     "output_type": "stream",
     "text": [
      "/ operator 2.3333333333333335\n",
      "// operator 2\n"
     ]
    }
   ],
   "source": [
    "x = 7\n",
    "y = 3\n",
    "\n",
    "print(f\"/ operator {x/y}\")\n",
    "print(f\"// operator {x//y}\")"
   ]
  },
  {
   "cell_type": "markdown",
   "metadata": {},
   "source": [
    "## Numbers as input\n",
    "We have already used the input command to read in strings from the user. The same function can be used to read in numbers, but the string produced by the function must then be converted to a numeric data type in the program code. In the previous section we cast integers as strings with the str function. The same basic principle applies here, but the name of the casting function will be different.\n",
    "\n",
    "A string can be converted into an integer with the function int. The following program asks the user for their year of birth and stores it in the variable input_str. The program then creates another variable year, which contains the year converted into an integer. After this the calculation 2021-year is possible, using the user-supplied value."
   ]
  },
  {
   "cell_type": "code",
   "execution_count": 5,
   "metadata": {},
   "outputs": [
    {
     "name": "stdout",
     "output_type": "stream",
     "text": [
      "Your age at the end of the year 2021: 28\n"
     ]
    }
   ],
   "source": [
    "input_str = input(\"Which year were you born? \")\n",
    "year = int(input_str)\n",
    "\n",
    "print(f\"Your age at the end of the year 2021: {2024 - year}\")"
   ]
  },
  {
   "cell_type": "markdown",
   "metadata": {},
   "source": [
    "Usually you do not need to create two separate variables (like input_str and year above) to read a number value from the user. Instead, reading the input with the input function and converting it with the int function can be achieved in one go:"
   ]
  },
  {
   "cell_type": "code",
   "execution_count": 6,
   "metadata": {},
   "outputs": [
    {
     "name": "stdout",
     "output_type": "stream",
     "text": [
      "Your age at the end of the year 2021: 28\n"
     ]
    }
   ],
   "source": [
    "input = int(input(\"Which year were you born? \"))\n",
    "\n",
    "print(f\"Your age at the end of the year 2021: {2024 - input}\")"
   ]
  },
  {
   "cell_type": "markdown",
   "metadata": {},
   "source": [
    "Similarly, a string can be converted into a floating point number with the function float. This programs asks the user for their height and weight, and uses these to calculate their BMI:"
   ]
  },
  {
   "cell_type": "code",
   "execution_count": 5,
   "metadata": {},
   "outputs": [
    {
     "name": "stdout",
     "output_type": "stream",
     "text": [
      "The BMI is 28.02137829801649\n"
     ]
    }
   ],
   "source": [
    "height = float(input(\"What is your height? \"))\n",
    "weight = float(input(\"What is your weight? \"))\n",
    "\n",
    "height = height / 100\n",
    "bmi = weight / height ** 2\n",
    "\n",
    "print(f\"The BMI is {bmi}\")"
   ]
  },
  {
   "cell_type": "markdown",
   "metadata": {},
   "source": [
    "<hr/>\n",
    "<div class=\"alert alert-danger alertsuccess\" style=\"margin-top: 20px\">\n",
    "<b><h3>Programming exercise:</h3></b>\n",
    "<p><b>Times five<br></b>\n",
    "Please write a program which asks the user for a number. The program then prints out the number multiplied by five.\n",
    "\n",
    "The program should function as follows:<br>\n",
    "\n",
    "<code>\n",
    "Please type in a number: 3<br>\n",
    "3 times 5 is 15<br>\n",
    "</code>\n",
    "</p>\n",
    "</div>\n",
    "<hr/>"
   ]
  },
  {
   "cell_type": "code",
   "execution_count": 4,
   "metadata": {},
   "outputs": [
    {
     "name": "stdout",
     "output_type": "stream",
     "text": [
      "3 times 5 is 15\n"
     ]
    }
   ],
   "source": [
    "num = int(input(\"Please type in a number: \"))\n",
    "print(f\"{num} times 5 is {num * 5}\")\n"
   ]
  },
  {
   "cell_type": "markdown",
   "metadata": {},
   "source": [
    "<hr/>\n",
    "<div class=\"alert alert-danger alertsuccess\" style=\"margin-top: 20px\">\n",
    "<b><h3>Programming exercise:</h3></b>\n",
    "<p><b>Name and age<br></b>\n",
    "Please write a program which asks the user for their name and year of birth. The program then prints out a message as follows:<br>\n",
    "\n",
    "<code>\n",
    "What is your name? Frances Fictitious<br>\n",
    "Which year were you born? 1990<br>\n",
    "Hi Frances Fictitious, you will be 31 years old at the end of the year 2021\n",
    "</code>\n",
    "</p>\n",
    "</div>\n",
    "<hr/>"
   ]
  },
  {
   "cell_type": "code",
   "execution_count": 6,
   "metadata": {},
   "outputs": [
    {
     "name": "stdout",
     "output_type": "stream",
     "text": [
      "Hi Frances Fictitious, you will be 34 years old at the end of the year 2024\n"
     ]
    }
   ],
   "source": [
    "name = input(\"What is your name? \")\n",
    "year = int(input(\"Which year were you born? \"))\n",
    "\n",
    "print(f\"Hi {name}, you will be {2024 - year} years old at the end of the year 2024\")"
   ]
  },
  {
   "cell_type": "markdown",
   "metadata": {},
   "source": [
    "## Using variables\n",
    "Let's have a look at a program which calculates the sum of three numbers given by the user:"
   ]
  },
  {
   "cell_type": "code",
   "execution_count": 7,
   "metadata": {},
   "outputs": [
    {
     "name": "stdout",
     "output_type": "stream",
     "text": [
      "The sum of the numbers: 60\n"
     ]
    }
   ],
   "source": [
    "number1 = int(input(\"First number: \"))\n",
    "number2 = int(input(\"Second number: \"))\n",
    "number3 = int(input(\"Third number: \"))\n",
    "\n",
    "sum = number1 + number2 + number3\n",
    "print(f\"The sum of the numbers: {sum}\")"
   ]
  },
  {
   "cell_type": "markdown",
   "metadata": {},
   "source": [
    "The program uses four different variables, but two would easily suffice in this case:"
   ]
  },
  {
   "cell_type": "code",
   "execution_count": 8,
   "metadata": {},
   "outputs": [
    {
     "name": "stdout",
     "output_type": "stream",
     "text": [
      "The sum of the numbers: 60\n"
     ]
    }
   ],
   "source": [
    "sum = 0\n",
    "\n",
    "number = int(input(\"First number: \"))\n",
    "sum = sum + number\n",
    "\n",
    "number = int(input(\"Second number: \"))\n",
    "sum = sum + number\n",
    "\n",
    "number = int(input(\"Third number: \"))\n",
    "sum = sum + number\n",
    "\n",
    "print(f\"The sum of the numbers: {sum}\")"
   ]
  },
  {
   "cell_type": "markdown",
   "metadata": {},
   "source": [
    "Now all inputs from the user are read into the one and the same variable number. The value of the variable sum is increased by the value of the variable number each time the user inputs a new number.\n",
    "\n",
    "Let's take a closer look at this command:\n",
    "\n",
    "<code>sum = sum + number</code>\n",
    "\n",
    "Here, the value of the variable sum and the value of the variable number are added together, and the result is stored back in the variable sum. For example, if before the command the value of sum is 3 and the value of number is 2, after the command is executed, the value of sum is 5.\n",
    "\n",
    "Increasing the value of a variable is a very common operation. As such, there is a commonly used shorthand notation which achieves the same result as the explicit summing up above:\n",
    "\n",
    "<code>sum += number</code>\n",
    "\n",
    "This allows us to write the above program a little more concisely:\n",
    "\n"
   ]
  },
  {
   "cell_type": "code",
   "execution_count": 9,
   "metadata": {},
   "outputs": [
    {
     "name": "stdout",
     "output_type": "stream",
     "text": [
      "The sum of the numbers: 60\n"
     ]
    }
   ],
   "source": [
    "sum = 0\n",
    "\n",
    "number = int(input(\"First number: \"))\n",
    "sum += number\n",
    "\n",
    "number = int(input(\"Second number: \"))\n",
    "sum += number\n",
    "\n",
    "number = int(input(\"Third number: \"))\n",
    "sum += number\n",
    "\n",
    "print(f\"The sum of the numbers: {sum}\")"
   ]
  },
  {
   "cell_type": "markdown",
   "metadata": {},
   "source": [
    "In fact, we don't necessarily need the variable number at all. The inputs from the user can also be processed like this:"
   ]
  },
  {
   "cell_type": "code",
   "execution_count": 10,
   "metadata": {},
   "outputs": [
    {
     "name": "stdout",
     "output_type": "stream",
     "text": [
      "The sum of the numbers: 60\n"
     ]
    }
   ],
   "source": [
    "sum = 0\n",
    "\n",
    "sum += int(input(\"First number: \"))\n",
    "sum += int(input(\"Second number: \"))\n",
    "sum += int(input(\"Third number: \"))\n",
    "\n",
    "print(f\"The sum of the numbers: {sum}\")"
   ]
  },
  {
   "cell_type": "markdown",
   "metadata": {},
   "source": [
    "Of course, it will depend on the context how many variables are needed. If it is required to remember each value the user inputs, it will not be possible to \"reuse\" the same variable to read different values from the user. Consider the following:"
   ]
  },
  {
   "cell_type": "code",
   "execution_count": 11,
   "metadata": {},
   "outputs": [
    {
     "name": "stdout",
     "output_type": "stream",
     "text": [
      "10 + 20 = 30\n"
     ]
    }
   ],
   "source": [
    "number1 = int(input(\"First number: \"))\n",
    "number2 = int(input(\"Second number: \"))\n",
    "\n",
    "print(f\"{number1} + {number2} = {number1+number2}\")"
   ]
  },
  {
   "cell_type": "markdown",
   "metadata": {},
   "source": [
    "On the other hand, the above program does not have a named variable for storing the sum of the two values.\n",
    "\n",
    "\"Reusing\" a variable only makes sense when there is a need to temporarily store things of a similar type and purpose, for example when summing numbers.\n",
    "\n",
    "In the following example the variable data is used to first store the name of the user, and then their age. This is not at all sensible."
   ]
  },
  {
   "cell_type": "code",
   "execution_count": 12,
   "metadata": {},
   "outputs": [
    {
     "name": "stdout",
     "output_type": "stream",
     "text": [
      "Hi Python!\n"
     ]
    }
   ],
   "source": [
    "data = input(\"What is your name? \")\n",
    "print(\"Hi \" + data + \"!\")\n",
    "\n",
    "data = int(input(\"What is your age? \"))\n",
    "# program continues..."
   ]
  },
  {
   "cell_type": "markdown",
   "metadata": {},
   "source": [
    "A better idea is to use separate variables, with descriptive names:"
   ]
  },
  {
   "cell_type": "code",
   "execution_count": 13,
   "metadata": {},
   "outputs": [
    {
     "name": "stdout",
     "output_type": "stream",
     "text": [
      "Hi Python!\n"
     ]
    }
   ],
   "source": [
    "name = input(\"What is your name? \")\n",
    "print(\"Hi \" + name + \"!\")\n",
    "\n",
    "age = int(input(\"What is your age? \"))\n",
    "# program continues..."
   ]
  },
  {
   "cell_type": "markdown",
   "metadata": {},
   "source": [
    "<hr/>\n",
    "<div class=\"alert alert-danger alertsuccess\" style=\"margin-top: 20px\">\n",
    "<b><h3>Programming exercise:</h3></b>\n",
    "<p><b>Seconds in a day<br></b>\n",
    "Please write a program which asks the user for a number of days. The program then prints out the number of seconds in the amount of days given.\n",
    "\n",
    "The program should function as follows:<br>\n",
    "\n",
    "<code>\n",
    "How many days? 1<br>\n",
    "Seconds in that many days: 86400\n",
    "</code>\n",
    "</p>\n",
    "</div>\n",
    "<hr/>"
   ]
  },
  {
   "cell_type": "code",
   "execution_count": 16,
   "metadata": {},
   "outputs": [
    {
     "name": "stdout",
     "output_type": "stream",
     "text": [
      "Seconds in that many days: 604800\n"
     ]
    }
   ],
   "source": [
    "days = int(input(\"How many days? \"))\n",
    "seconds = days * 24 * 60 * 60\n",
    "\n",
    "print(f\"Seconds in that many days: {seconds}\")"
   ]
  },
  {
   "cell_type": "markdown",
   "metadata": {},
   "source": [
    "<hr/>\n",
    "<div class=\"alert alert-danger alertsuccess\" style=\"margin-top: 20px\">\n",
    "<b><h3>Programming exercise:</h3></b>\n",
    "<p><b>Fix the code: Product<br></b>\n",
    "This program asks the user for three numbers. The program then prints out their product, that is, the numbers multiplied by each other. There is, however, something wrong with the program - it doesn't work quite right, as you can see if you run it. Please fix it.\n",
    "\n",
    "An example of the expected execution of the program:<br>\n",
    "\n",
    "<code>\n",
    "Please type in the first number: 2<br>\n",
    "Please type in the second number: 3<br>\n",
    "Please type in the third number: 5<br>\n",
    "The product is 30\n",
    "</code>\n",
    "</p>\n",
    "</div>\n",
    "<hr/>"
   ]
  },
  {
   "cell_type": "code",
   "execution_count": 18,
   "metadata": {},
   "outputs": [
    {
     "name": "stdout",
     "output_type": "stream",
     "text": [
      "The product is 30\n"
     ]
    }
   ],
   "source": [
    "# Fix the code\n",
    "number1 = int(input(\"Please type in the first number: \"))\n",
    "number2 = int(input(\"Please type in the second number: \"))\n",
    "number3 = int(input(\"Please type in the third number: \"))\n",
    "\n",
    "product = number1 * number2 * number3\n",
    "\n",
    "print(\"The product is\", product)\n"
   ]
  },
  {
   "cell_type": "markdown",
   "metadata": {},
   "source": [
    "<hr/>\n",
    "<div class=\"alert alert-danger alertsuccess\" style=\"margin-top: 20px\">\n",
    "<b><h3>Programming exercise:</h3></b>\n",
    "<p><b>Sum and product<br></b>\n",
    "Please write a program which asks the user for two numbers. The program will then print out the sum and the product of the two numbers.\n",
    "\n",
    "The program should function as follows:<br>\n",
    "\n",
    "<code>\n",
    "Number 1: 3<br>\n",
    "Number 2: 7<br>\n",
    "The sum of the numbers: 10<br>\n",
    "The product of the numbers: 21\n",
    "</code>\n",
    "</p>\n",
    "</div>\n",
    "<hr/>"
   ]
  },
  {
   "cell_type": "code",
   "execution_count": 21,
   "metadata": {},
   "outputs": [
    {
     "name": "stdout",
     "output_type": "stream",
     "text": [
      "The sum of the numbers: 10\n",
      "The product of the numbers: 21\n"
     ]
    }
   ],
   "source": [
    "num1 = int(input(\"Number 1: \"))\n",
    "num2 = int(input(\"Number 2: \"))\n",
    "\n",
    "print(f\"The sum of the numbers: {num1 + num2}\")\n",
    "print(f\"The product of the numbers: {num1 * num2}\")"
   ]
  },
  {
   "cell_type": "markdown",
   "metadata": {},
   "source": [
    "<hr/>\n",
    "<div class=\"alert alert-danger alertsuccess\" style=\"margin-top: 20px\">\n",
    "<b><h3>Programming exercise:</h3></b>\n",
    "<p><b>Sum and mean<br></b>\n",
    "Please write a program which asks the user for four numbers. The program then prints out the sum and the mean of the numbers.\n",
    "\n",
    "The program should function as follows:<br>\n",
    "\n",
    "<code>\n",
    "Number 1: 2<br>\n",
    "Number 2: 1<br>\n",
    "Number 3: 6<br>\n",
    "Number 4: 7<br>\n",
    "The sum of the numbers is 16 and the mean is 4.0\n",
    "</code>\n",
    "</p>\n",
    "</div>\n",
    "<hr/>"
   ]
  },
  {
   "cell_type": "code",
   "execution_count": 24,
   "metadata": {},
   "outputs": [
    {
     "name": "stdout",
     "output_type": "stream",
     "text": [
      "The sum of the numbers is 10 and the mean is 2.5\n"
     ]
    }
   ],
   "source": [
    "num1 = int(input(\"Number 1: \"))\n",
    "num2 = int(input(\"Number 2: \"))\n",
    "num3 = int(input(\"Number 3: \"))\n",
    "num4 = int(input(\"Number 4: \"))\n",
    "\n",
    "sum = num1 + num2 + num3 + num4\n",
    "\n",
    "print(f\"The sum of the numbers is {sum} and the mean is {sum / 4}\")"
   ]
  },
  {
   "cell_type": "markdown",
   "metadata": {},
   "source": [
    "<hr/>\n",
    "<div class=\"alert alert-danger alertsuccess\" style=\"margin-top: 20px\">\n",
    "<b><h3>Programming exercise:</h3></b>\n",
    "<p><b>Food expenditure<br></b>\n",
    "Please write a program which estimates a user's typical food expenditure.\n",
    "\n",
    "The program asks the user how many times a week they eat at the student cafeteria. Then it asks for the price of a typical student lunch, and for money spent on groceries during the week.\n",
    "\n",
    "Based on this information the program calculates the user's typical food expenditure both weekly and daily.\n",
    "\n",
    "The program should function as follows:<br>\n",
    "\n",
    "<code>\n",
    "How many times a week do you eat at the student cafeteria? 4<br>\n",
    "The price of a typical student lunch? 2.5<br>\n",
    "How much money do you spend on groceries in a week? 28.5<br>\n",
    "\n",
    "Average food expenditure:<br>\n",
    "Daily: 5.5 euros<br>\n",
    "Weekly: 38.5 euros\n",
    "</code>\n",
    "</p>\n",
    "</div>\n",
    "<hr/>"
   ]
  },
  {
   "cell_type": "code",
   "execution_count": 27,
   "metadata": {},
   "outputs": [
    {
     "name": "stdout",
     "output_type": "stream",
     "text": [
      "Average food expenditure:\n",
      "Daily: 5.5 euros\n",
      "Weekly: 38.5 euros\n"
     ]
    }
   ],
   "source": [
    "eat_time_weekly = int(input(\"How many times a week do you eat at the student cafeteria? \"))\n",
    "lunch_price = float(input(\"The price of a typical student lunch? \"))\n",
    "weekly_grocery_spend = float(input(\"How much money do you spend on groceries in a week? \"))\n",
    "\n",
    "weekly_lunch_spend = eat_time_weekly * lunch_price\n",
    "total_spend_weekly = weekly_lunch_spend + weekly_grocery_spend\n",
    "daily_spend = total_spend_weekly / 7\n",
    "\n",
    "print(f\"Average food expenditure:\\nDaily: {daily_spend} euros\\nWeekly: {total_spend_weekly} euros\")\n"
   ]
  },
  {
   "cell_type": "markdown",
   "metadata": {},
   "source": [
    "<hr/>\n",
    "<div class=\"alert alert-danger alertsuccess\" style=\"margin-top: 20px\">\n",
    "<b><h3>Programming exercise:</h3></b>\n",
    "<p><b>Students in groups<br></b>\n",
    "Please write a program which asks for the number of students on a course and the desired group size. The program will then print out the number of groups formed from the students on the course. If the division is not even, one of the groups may have fewer members than specified.\n",
    "\n",
    "If you can't get your code working as expected, it is absolutely okay to move on and come back to this exercise later. The topic of the next section is conditional statements. This exercise can also be solved using a conditional construction.<br>\n",
    "\n",
    "<code>\n",
    "How many students on the course? 8<br>\n",
    "Desired group size? 4<br>\n",
    "Number of groups formed: 2<br>\n",
    "\n",
    "How many students on the course? 11<br>\n",
    "Desired group size? 3<br>\n",
    "Number of groups formed: 4\n",
    "</code>\n",
    "\n",
    "Hint: the integer division operator // could come in handy here.\n",
    "</p>\n",
    "</div>\n",
    "<hr/>"
   ]
  },
  {
   "cell_type": "code",
   "execution_count": 35,
   "metadata": {},
   "outputs": [
    {
     "name": "stdout",
     "output_type": "stream",
     "text": [
      "Number of groups formed: 4\n"
     ]
    }
   ],
   "source": [
    "num_students = int(input(\"How many students on the course? \"))\n",
    "group_size = int(input(\"Desired group size? \"))\n",
    "\n",
    "num_groups = -(-num_students // group_size)\n",
    "\n",
    "# Print the result\n",
    "print(f\"Number of groups formed: {num_groups}\")"
   ]
  },
  {
   "cell_type": "markdown",
   "metadata": {},
   "source": [
    "OR"
   ]
  },
  {
   "cell_type": "code",
   "execution_count": 36,
   "metadata": {},
   "outputs": [
    {
     "name": "stdout",
     "output_type": "stream",
     "text": [
      "Number of groups formed: 4\n"
     ]
    }
   ],
   "source": [
    "num_students = int(input(\"How many students on the course? \"))\n",
    "group_size = int(input(\"Desired group size? \"))\n",
    "\n",
    "num_groups = 'Number of groups formed:'\n",
    "if num_students % group_size == 0:\n",
    "    print(num_groups, num_students // group_size)\n",
    "else:\n",
    "    print(num_groups, num_students // group_size + 1)"
   ]
  }
 ],
 "metadata": {
  "kernelspec": {
   "display_name": "Python 3",
   "language": "python",
   "name": "python3"
  },
  "language_info": {
   "codemirror_mode": {
    "name": "ipython",
    "version": 3
   },
   "file_extension": ".py",
   "mimetype": "text/x-python",
   "name": "python",
   "nbconvert_exporter": "python",
   "pygments_lexer": "ipython3",
   "version": "3.12.1"
  }
 },
 "nbformat": 4,
 "nbformat_minor": 2
}
