{
 "cells": [
  {
   "cell_type": "markdown",
   "metadata": {},
   "source": [
    "# More loops\n",
    "\n",
    "## The break command\n",
    "\n",
    "You have already come across the break command. It can be used to stop the execution of a loop immediately. A typical example of where it is used is a situation where the program asks the user for input, and the execution ends only when a specific input is received.\n",
    "\n",
    "The same functionality can be achieved without the break command, using a suitable condition. The two programs below both ask the user to type in numbers, and calculate the sum of the numbers until the user types in -1."
   ]
  },
  {
   "cell_type": "code",
   "execution_count": 1,
   "metadata": {},
   "outputs": [
    {
     "name": "stdout",
     "output_type": "stream",
     "text": [
      "The sum is 21\n"
     ]
    }
   ],
   "source": [
    "# 1st version using the break command\n",
    "\n",
    "sum = 0\n",
    "\n",
    "while True:\n",
    "    number = int(input(\"Please type in a number, -1 to exit: \"))\n",
    "    if number == -1:\n",
    "        break\n",
    "    sum += number\n",
    "\n",
    "print (f\"The sum is {sum}\")"
   ]
  },
  {
   "cell_type": "code",
   "execution_count": 2,
   "metadata": {},
   "outputs": [
    {
     "name": "stdout",
     "output_type": "stream",
     "text": [
      "The sum is 45\n"
     ]
    }
   ],
   "source": [
    "# 2nd version without the break command\n",
    "\n",
    "sum = 0\n",
    "number = 0\n",
    "\n",
    "while number != -1:\n",
    "    number = int(input(\"Please type in a number, -1 to exit: \"))\n",
    "    if number != -1:\n",
    "        sum += number\n",
    "\n",
    "print (f\"The sum is {sum}\")"
   ]
  },
  {
   "cell_type": "markdown",
   "metadata": {},
   "source": [
    "So, the two programs are functionally practically identical. However, the first method is often easier, as the condition number == -1 appears only once, and the variable number doesn't have to be initialised outside the loop.\n",
    "\n",
    "The break command and a suitable condition can also be used together in a while loop. For example, the following loop is repeated as long as the sum of the numbers is at most 100, but it also stops if the user types in the number -1."
   ]
  },
  {
   "cell_type": "code",
   "execution_count": 3,
   "metadata": {},
   "outputs": [
    {
     "name": "stdout",
     "output_type": "stream",
     "text": [
      "The sum is 109\n"
     ]
    }
   ],
   "source": [
    "sum = 0\n",
    "\n",
    "while sum <= 100:\n",
    "    number = int(input(\"Please type in a number, -1 to exit: \"))\n",
    "    if number == -1:\n",
    "        break\n",
    "    sum += number\n",
    "\n",
    "print (f\"The sum is {sum}\")"
   ]
  },
  {
   "cell_type": "markdown",
   "metadata": {},
   "source": [
    "Example 1<br>\n",
    "Please type in a number, -1 to exit: 15<br>\n",
    "Please type in a number, -1 to exit: 8<br>\n",
    "Please type in a number, -1 to exit: 21<br>\n",
    "Please type in a number, -1 to exit: -1<br>\n",
    "The sum is 44\n",
    "\n",
    "Example 2<br>\n",
    "Please type in a number, -1 to exit: 15<br>\n",
    "Please type in a number, -1 to exit: 8<br>\n",
    "Please type in a number, -1 to exit: 21<br>\n",
    "Please type in a number, -1 to exit: 45<br>\n",
    "Please type in a number, -1 to exit: 17<br>\n",
    "The sum is 106\n",
    "\n",
    "In the first example the execution of the loop stops because the user types in the number -1. In the second example it stops because the sum of the numbers exceeds 100.\n",
    "\n",
    "As always in programming, there are many ways to reach the same functionality. The following program is functionally identical to the above:"
   ]
  },
  {
   "cell_type": "code",
   "execution_count": 4,
   "metadata": {},
   "outputs": [
    {
     "name": "stdout",
     "output_type": "stream",
     "text": [
      "The sum is 105\n"
     ]
    }
   ],
   "source": [
    "sum = 0\n",
    "\n",
    "while True:\n",
    "    number = int(input(\"Please type in a number, -1 to exit: \"))\n",
    "    if number == -1:\n",
    "        break\n",
    "    sum += number\n",
    "    if sum > 100:\n",
    "        break\n",
    "\n",
    "print (f\"The sum is {sum}\")"
   ]
  },
  {
   "cell_type": "markdown",
   "metadata": {},
   "source": [
    "## The continue command\n",
    "Another way to change the way a loop is executed is the continue command. It causes the execution of the loop to jump straight to the beginning of the loop, where the condition of the loop is. Then the execution continues normally with checking the condition:\n",
    "\n",
    "![Continue Command](https://programming-24.mooc.fi/static/a248e448eca1ebe875046227836fc069/c54b3/3_3_1.png)"
   ]
  },
  {
   "cell_type": "markdown",
   "metadata": {},
   "source": [
    "For example, the following program sums up numbers from input, but it only includes the numbers which are smaller than 10. If the number is 10 or greater, the execution jumps to the beginning of the loop and the number is not added to the sum."
   ]
  },
  {
   "cell_type": "code",
   "execution_count": 5,
   "metadata": {},
   "outputs": [
    {
     "name": "stdout",
     "output_type": "stream",
     "text": [
      "The sum is 16\n"
     ]
    }
   ],
   "source": [
    "sum = 0\n",
    "\n",
    "while True:\n",
    "    number = int(input(\"Please type in a number, -1 to exit: \"))\n",
    "    if number == -1:\n",
    "        break\n",
    "    if number >= 10:\n",
    "        continue\n",
    "    sum += number\n",
    "\n",
    "print (f\"The sum is {sum}\")"
   ]
  },
  {
   "cell_type": "markdown",
   "metadata": {},
   "source": [
    "Please type in a number, -1 to exit: 4<br>\n",
    "Please type in a number, -1 to exit: 7<br>\n",
    "Please type in a number, -1 to exit: 99<br>\n",
    "Please type in a number, -1 to exit: 5<br>\n",
    "Please type in a number, -1 to exit: -1<br>\n",
    "The sum is 16"
   ]
  },
  {
   "cell_type": "markdown",
   "metadata": {},
   "source": [
    "## Nested loops\n",
    "Just like if statements, loops can also be placed inside other loops. For example, the following program uses a loop to ask the user to input numbers. It then uses another loop inside the first one to print a countdown from the given number down to 1:"
   ]
  },
  {
   "cell_type": "code",
   "execution_count": 1,
   "metadata": {},
   "outputs": [
    {
     "name": "stdout",
     "output_type": "stream",
     "text": [
      "4\n",
      "3\n",
      "2\n",
      "1\n",
      "3\n",
      "2\n",
      "1\n",
      "6\n",
      "5\n",
      "4\n",
      "3\n",
      "2\n",
      "1\n",
      "9\n",
      "8\n",
      "7\n",
      "6\n",
      "5\n",
      "4\n",
      "3\n",
      "2\n",
      "1\n"
     ]
    }
   ],
   "source": [
    "while True:\n",
    "    number = int(input(\"Please type in a number: \"))\n",
    "    if number == -1:\n",
    "        break\n",
    "    while number > 0:\n",
    "        print(number)\n",
    "        number -= 1"
   ]
  },
  {
   "cell_type": "markdown",
   "metadata": {},
   "source": [
    "When there are nested loops, break and continue commands only affect the innermost loop which they are a part of. The previous example could also be written like this:"
   ]
  },
  {
   "cell_type": "code",
   "execution_count": 3,
   "metadata": {},
   "outputs": [
    {
     "name": "stdout",
     "output_type": "stream",
     "text": [
      "5\n",
      "4\n",
      "3\n",
      "2\n",
      "1\n",
      "3\n",
      "2\n",
      "1\n",
      "4\n",
      "3\n",
      "2\n",
      "1\n"
     ]
    }
   ],
   "source": [
    "while True:\n",
    "    number = int(input(\"Please type in a number: \"))\n",
    "    if number == -1:\n",
    "        break\n",
    "    while True:\n",
    "        if number <= 0:\n",
    "            break\n",
    "        print(number)\n",
    "        number -= 1"
   ]
  },
  {
   "cell_type": "markdown",
   "metadata": {},
   "source": [
    "Here the latter break command only stops the innermost loop, which is used to print the numbers."
   ]
  },
  {
   "cell_type": "markdown",
   "metadata": {},
   "source": [
    "## More helper variables with loops\n",
    "\n",
    "We've already used helper variables, which increase or decrease with every iteration of a loop, many times before, so the following program should look quite familiar in structure. The program prints out all even numbers above zero until it reaches a limit set by the user:"
   ]
  },
  {
   "cell_type": "code",
   "execution_count": 2,
   "metadata": {},
   "outputs": [
    {
     "name": "stdout",
     "output_type": "stream",
     "text": [
      "0\n",
      "2\n",
      "4\n",
      "6\n"
     ]
    }
   ],
   "source": [
    "limit = int(input(\"Please type in a number: \"))\n",
    "i = 0\n",
    "while i < limit:\n",
    "    print(i)\n",
    "    i += 2"
   ]
  },
  {
   "cell_type": "markdown",
   "metadata": {},
   "source": [
    "The helper variable i is set to 0 before the loop, and it increases by two with every iteration.\n",
    "\n",
    "Using nested loops sometimes necessitates a separate helper variable for the inner loop. The program below prints out a \"number pyramid\" based on a number given by the user:"
   ]
  },
  {
   "cell_type": "code",
   "execution_count": 3,
   "metadata": {},
   "outputs": [
    {
     "name": "stdout",
     "output_type": "stream",
     "text": [
      "0 1 2 3 4 \n",
      "0 1 2 3 \n",
      "0 1 2 \n",
      "0 1 \n",
      "0 \n"
     ]
    }
   ],
   "source": [
    "number = int(input(\"Please type in a number: \"))\n",
    "while number > 0:\n",
    "    i = 0\n",
    "    while i < number:\n",
    "        print(f\"{i} \", end=\"\")\n",
    "        i += 1\n",
    "    print()\n",
    "    number -= 1"
   ]
  },
  {
   "cell_type": "markdown",
   "metadata": {},
   "source": [
    "In this program the outer loop uses the helper variable number, which decreases by 1 with each iteration until it reaches 0. The helper variable i is set to 0 just before the inner loop is entered, each time the outer loop repeats.\n",
    "\n",
    "The inner loop uses the helper variable i, which increases by 1 with each iteration of the inner loop. The inner loop repeats until i is equal to number, and prints out each value of i on the same line, separated by a space character. When the inner loop finishes, the print command in the outer loop starts a new line.\n",
    "\n",
    "Now remember that with each iteration of the outer loop the value of number decreases, so the amount of times the inner loop repeats also decreases. With each repetition the line of numbers gets shorter, and thus we get the pyramid shape.\n",
    "\n",
    "Nested loops can get confusing fast, but understanding the way they work is essential. You may well find the Python Tutor visualisation tool helpful in understanding how this example works. Copy the above code into the code window of the tool and follow the formation of the printout and the changing values of the helper variables as the execution progresses."
   ]
  },
  {
   "cell_type": "markdown",
   "metadata": {},
   "source": [
    "<hr/>\n",
    "<div class=\"alert alert-danger alertsuccess\" style=\"margin-top: 20px\">\n",
    "<h2>Programming exercise:</h2>\n",
    "<h3><b>Multiplication</b></h3>\n",
    "<p>\n",
    "Please write a program which asks the user for a positive integer number. The program then prints out a list of multiplication operations until both operands reach the number given by the user. See the examples below for details:<br>\n",
    "\n",
    "Please type in a number: 2<br>\n",
    "1 x 1 = 1<br>\n",
    "1 x 2 = 2<br>\n",
    "2 x 1 = 2<br>\n",
    "2 x 2 = 4<br>\n",
    "\n",
    "Please type in a number: 3<br>\n",
    "1 x 1 = 1<br>\n",
    "1 x 2 = 2<br>\n",
    "1 x 3 = 3<br>\n",
    "2 x 1 = 2<br>\n",
    "2 x 2 = 4<br>\n",
    "2 x 3 = 6<br>\n",
    "3 x 1 = 3<br>\n",
    "3 x 2 = 6<br>\n",
    "3 x 3 = 9\n",
    "</p>\n",
    "</div>\n",
    "<hr/>"
   ]
  },
  {
   "cell_type": "code",
   "execution_count": 19,
   "metadata": {},
   "outputs": [
    {
     "name": "stdout",
     "output_type": "stream",
     "text": [
      "1 X 1 = 1\n",
      "1 X 2 = 2\n",
      "1 X 3 = 3\n",
      "2 X 1 = 2\n",
      "2 X 2 = 4\n",
      "2 X 3 = 6\n",
      "3 X 1 = 3\n",
      "3 X 2 = 6\n",
      "3 X 3 = 9\n"
     ]
    }
   ],
   "source": [
    "num = int(input(\"Please type in a number: \"))\n",
    "\n",
    "i = 1\n",
    "while i <= num:\n",
    "    j = 1\n",
    "    while j <= num:\n",
    "        print(f\"{i} X {j} = {i * j}\")\n",
    "        j = j + 1\n",
    "    i = i + 1"
   ]
  },
  {
   "cell_type": "markdown",
   "metadata": {},
   "source": []
  }
 ],
 "metadata": {
  "kernelspec": {
   "display_name": "Python 3",
   "language": "python",
   "name": "python3"
  },
  "language_info": {
   "codemirror_mode": {
    "name": "ipython",
    "version": 3
   },
   "file_extension": ".py",
   "mimetype": "text/x-python",
   "name": "python",
   "nbconvert_exporter": "python",
   "pygments_lexer": "ipython3",
   "version": "3.12.1"
  }
 },
 "nbformat": 4,
 "nbformat_minor": 2
}
