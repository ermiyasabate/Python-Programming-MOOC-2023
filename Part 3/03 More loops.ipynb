{
 "cells": [
  {
   "cell_type": "markdown",
   "metadata": {},
   "source": [
    "# More loops\n",
    "\n",
    "## The break command\n",
    "\n",
    "You have already come across the break command. It can be used to stop the execution of a loop immediately. A typical example of where it is used is a situation where the program asks the user for input, and the execution ends only when a specific input is received.\n",
    "\n",
    "The same functionality can be achieved without the break command, using a suitable condition. The two programs below both ask the user to type in numbers, and calculate the sum of the numbers until the user types in -1."
   ]
  },
  {
   "cell_type": "code",
   "execution_count": 1,
   "metadata": {},
   "outputs": [
    {
     "name": "stdout",
     "output_type": "stream",
     "text": [
      "The sum is 21\n"
     ]
    }
   ],
   "source": [
    "# 1st version using the break command\n",
    "\n",
    "sum = 0\n",
    "\n",
    "while True:\n",
    "    number = int(input(\"Please type in a number, -1 to exit: \"))\n",
    "    if number == -1:\n",
    "        break\n",
    "    sum += number\n",
    "\n",
    "print (f\"The sum is {sum}\")"
   ]
  },
  {
   "cell_type": "code",
   "execution_count": 2,
   "metadata": {},
   "outputs": [
    {
     "name": "stdout",
     "output_type": "stream",
     "text": [
      "The sum is 45\n"
     ]
    }
   ],
   "source": [
    "# 2nd version without the break command\n",
    "\n",
    "sum = 0\n",
    "number = 0\n",
    "\n",
    "while number != -1:\n",
    "    number = int(input(\"Please type in a number, -1 to exit: \"))\n",
    "    if number != -1:\n",
    "        sum += number\n",
    "\n",
    "print (f\"The sum is {sum}\")"
   ]
  },
  {
   "cell_type": "markdown",
   "metadata": {},
   "source": [
    "So, the two programs are functionally practically identical. However, the first method is often easier, as the condition number == -1 appears only once, and the variable number doesn't have to be initialised outside the loop.\n",
    "\n",
    "The break command and a suitable condition can also be used together in a while loop. For example, the following loop is repeated as long as the sum of the numbers is at most 100, but it also stops if the user types in the number -1."
   ]
  },
  {
   "cell_type": "code",
   "execution_count": 3,
   "metadata": {},
   "outputs": [
    {
     "name": "stdout",
     "output_type": "stream",
     "text": [
      "The sum is 109\n"
     ]
    }
   ],
   "source": [
    "sum = 0\n",
    "\n",
    "while sum <= 100:\n",
    "    number = int(input(\"Please type in a number, -1 to exit: \"))\n",
    "    if number == -1:\n",
    "        break\n",
    "    sum += number\n",
    "\n",
    "print (f\"The sum is {sum}\")"
   ]
  },
  {
   "cell_type": "markdown",
   "metadata": {},
   "source": [
    "Example 1<br>\n",
    "Please type in a number, -1 to exit: 15<br>\n",
    "Please type in a number, -1 to exit: 8<br>\n",
    "Please type in a number, -1 to exit: 21<br>\n",
    "Please type in a number, -1 to exit: -1<br>\n",
    "The sum is 44\n",
    "\n",
    "Example 2<br>\n",
    "Please type in a number, -1 to exit: 15<br>\n",
    "Please type in a number, -1 to exit: 8<br>\n",
    "Please type in a number, -1 to exit: 21<br>\n",
    "Please type in a number, -1 to exit: 45<br>\n",
    "Please type in a number, -1 to exit: 17<br>\n",
    "The sum is 106\n",
    "\n",
    "In the first example the execution of the loop stops because the user types in the number -1. In the second example it stops because the sum of the numbers exceeds 100.\n",
    "\n",
    "As always in programming, there are many ways to reach the same functionality. The following program is functionally identical to the above:"
   ]
  },
  {
   "cell_type": "code",
   "execution_count": 4,
   "metadata": {},
   "outputs": [
    {
     "name": "stdout",
     "output_type": "stream",
     "text": [
      "The sum is 105\n"
     ]
    }
   ],
   "source": [
    "sum = 0\n",
    "\n",
    "while True:\n",
    "    number = int(input(\"Please type in a number, -1 to exit: \"))\n",
    "    if number == -1:\n",
    "        break\n",
    "    sum += number\n",
    "    if sum > 100:\n",
    "        break\n",
    "\n",
    "print (f\"The sum is {sum}\")"
   ]
  },
  {
   "cell_type": "markdown",
   "metadata": {},
   "source": [
    "## The continue command\n",
    "Another way to change the way a loop is executed is the continue command. It causes the execution of the loop to jump straight to the beginning of the loop, where the condition of the loop is. Then the execution continues normally with checking the condition:\n",
    "\n",
    "![Continue Command](https://programming-24.mooc.fi/static/a248e448eca1ebe875046227836fc069/c54b3/3_3_1.png)"
   ]
  },
  {
   "cell_type": "markdown",
   "metadata": {},
   "source": [
    "For example, the following program sums up numbers from input, but it only includes the numbers which are smaller than 10. If the number is 10 or greater, the execution jumps to the beginning of the loop and the number is not added to the sum."
   ]
  },
  {
   "cell_type": "code",
   "execution_count": 5,
   "metadata": {},
   "outputs": [
    {
     "name": "stdout",
     "output_type": "stream",
     "text": [
      "The sum is 16\n"
     ]
    }
   ],
   "source": [
    "sum = 0\n",
    "\n",
    "while True:\n",
    "    number = int(input(\"Please type in a number, -1 to exit: \"))\n",
    "    if number == -1:\n",
    "        break\n",
    "    if number >= 10:\n",
    "        continue\n",
    "    sum += number\n",
    "\n",
    "print (f\"The sum is {sum}\")"
   ]
  },
  {
   "cell_type": "code",
   "execution_count": null,
   "metadata": {},
   "outputs": [],
   "source": []
  }
 ],
 "metadata": {
  "kernelspec": {
   "display_name": "Python 3",
   "language": "python",
   "name": "python3"
  },
  "language_info": {
   "codemirror_mode": {
    "name": "ipython",
    "version": 3
   },
   "file_extension": ".py",
   "mimetype": "text/x-python",
   "name": "python",
   "nbconvert_exporter": "python",
   "pygments_lexer": "ipython3",
   "version": "3.12.1"
  }
 },
 "nbformat": 4,
 "nbformat_minor": 2
}
