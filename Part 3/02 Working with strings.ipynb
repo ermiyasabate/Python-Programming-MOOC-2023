{
 "cells": [
  {
   "cell_type": "markdown",
   "metadata": {},
   "source": [
    "# Working with strings\n",
    "\n",
    "## String operations\n",
    "Strings can be combined, or concatenated, with the + operator:"
   ]
  },
  {
   "cell_type": "code",
   "execution_count": 2,
   "metadata": {},
   "outputs": [
    {
     "name": "stdout",
     "output_type": "stream",
     "text": [
      "example\n"
     ]
    }
   ],
   "source": [
    "begin = \"ex\"\n",
    "end = \"ample\"\n",
    "word = begin + end\n",
    "print(word)"
   ]
  },
  {
   "cell_type": "markdown",
   "metadata": {},
   "source": [
    "The * operator can also be used with a string, when the other operand is an integer. The string operand is then repeated the number of times specified by the integer. For example this would work:"
   ]
  },
  {
   "cell_type": "code",
   "execution_count": 3,
   "metadata": {},
   "outputs": [
    {
     "name": "stdout",
     "output_type": "stream",
     "text": [
      "bananabananabanana\n"
     ]
    }
   ],
   "source": [
    "word = \"banana\"\n",
    "print(word * 3)"
   ]
  },
  {
   "cell_type": "markdown",
   "metadata": {},
   "source": [
    "Using string operations together with a loop we can write a program which draws a pyramid:"
   ]
  },
  {
   "cell_type": "code",
   "execution_count": 8,
   "metadata": {},
   "outputs": [
    {
     "name": "stdout",
     "output_type": "stream",
     "text": [
      "          *\n",
      "         ***\n",
      "        *****\n",
      "       *******\n",
      "      *********\n",
      "     ***********\n",
      "    *************\n",
      "   ***************\n",
      "  *****************\n",
      " *******************\n"
     ]
    }
   ],
   "source": [
    "n = 10 # number of layers in the pyramid\n",
    "row = \"*\"\n",
    "\n",
    "while n > 0:\n",
    "    print(\" \" * n + row)\n",
    "    row += \"**\"\n",
    "    n -= 1"
   ]
  },
  {
   "cell_type": "markdown",
   "metadata": {},
   "source": [
    "The print command within the loop prints a line, which begins with n spaces, followed by whatever is stored in the variable row. Then two stars are added to the end of the variable row, and the value of the variable n is decreased by 1."
   ]
  },
  {
   "cell_type": "markdown",
   "metadata": {},
   "source": [
    "<hr/>\n",
    "<div class=\"alert alert-danger alertsuccess\" style=\"margin-top: 20px\">\n",
    "<h2>Programming exercise:</h2>\n",
    "<h3><b>String multiplied</b></h3>\n",
    "<p>\n",
    "Please write a program which asks the user for a string and an amount. The program then prints out the string as many times as specified by the amount. The printout should all be on one line, with no extra spaces or symbols added.\n",
    "\n",
    "An example of expected behaviour:<br>\n",
    "Please type in a string: hiya<br>\n",
    "Please type in an amount: 4<br>\n",
    "hiyahiyahiyahiya\n",
    "\n",
    "</p>\n",
    "</div>\n",
    "<hr/>"
   ]
  },
  {
   "cell_type": "code",
   "execution_count": 9,
   "metadata": {},
   "outputs": [
    {
     "name": "stdout",
     "output_type": "stream",
     "text": [
      "hiyahiyahiyahiya\n"
     ]
    }
   ],
   "source": [
    "text = input(\"Please type in a string: \")\n",
    "amount = int(input(\"Please type in an amount:\"))\n",
    "\n",
    "print(text * amount)"
   ]
  },
  {
   "cell_type": "markdown",
   "metadata": {},
   "source": [
    "## The length and index of a string\n",
    "The function len returns the number of characters in a string, which is always an integer value. For example, len(\"hey\") returns 3, because there are three characters in the string hey.\n",
    "\n",
    "The following program asks the user for a string and then prints it \"underlined\". The program prints a second line with as many - characters as is the length of the input:"
   ]
  },
  {
   "cell_type": "code",
   "execution_count": 10,
   "metadata": {},
   "outputs": [
    {
     "name": "stdout",
     "output_type": "stream",
     "text": [
      "Hi there!\n",
      "---------\n"
     ]
    }
   ],
   "source": [
    "input_string = input(\"Please type in a string: \")\n",
    "print(input_string)\n",
    "print(\"-\"*len(input_string))"
   ]
  },
  {
   "cell_type": "markdown",
   "metadata": {},
   "source": [
    "The length of a string includes all the characters in the string, including whitespace. For example, the length of the string bye bye is 7.\n",
    "\n",
    "<hr/>\n",
    "<div class=\"alert alert-danger alertsuccess\" style=\"margin-top: 20px\">\n",
    "<h2>Programming exercise:</h2>\n",
    "<h3><b>The longer string</b></h3>\n",
    "<p>\n",
    "Please write a program which asks the user for two strings and then prints out whichever is the longer of the two - that is, whichever has the more characters. If the strings are of equal length, the program should print out \"The strings are equally long\".\n",
    "\n",
    "Some examples of expected behaviour:<br>\n",
    "\n",
    "Please type in string 1: hey<br>\n",
    "Please type in string 2: hiya<br>\n",
    "hiya is longer<br>\n",
    "\n",
    "Please type in string 1: howdy doody<br>\n",
    "Please type in string 2: hola<br>\n",
    "howdy doody is longer<br>\n",
    "\n",
    "Please type in string 1: hey<br>\n",
    "Please type in string 2: bye<br>\n",
    "The strings are equally long\n",
    "</p>\n",
    "</div>\n",
    "<hr/>"
   ]
  },
  {
   "cell_type": "code",
   "execution_count": 15,
   "metadata": {},
   "outputs": [
    {
     "name": "stdout",
     "output_type": "stream",
     "text": [
      "The strings are equally long\n"
     ]
    }
   ],
   "source": [
    "text_one = input(\"Please type in string 1: \")\n",
    "text_two = input(\"Please type in string 2: \")\n",
    "\n",
    "if len(text_one) > len(text_two):\n",
    "    print(f\"{text_one} is longer\")\n",
    "elif len(text_one) < len(text_two):\n",
    "    print(f\"{text_two} is longer\")\n",
    "else:\n",
    "    print(\"The strings are equally long\")"
   ]
  },
  {
   "cell_type": "markdown",
   "metadata": {},
   "source": [
    "As strings are essentially sequences of characters, any single character in a string can also be retrieved. The operator [] finds the character with the index specified within the brackets.\n",
    "\n",
    "The index refers to a position in the string, counting up from zero. The first character in the string has index 0, the second character has index 1, and so forth.\n",
    "![String](https://programming-24.mooc.fi/static/23ff4a404e8e641ddf64851041396dde/27524/3_2_1.png)"
   ]
  },
  {
   "cell_type": "markdown",
   "metadata": {},
   "source": [
    "For example, this program"
   ]
  },
  {
   "cell_type": "code",
   "execution_count": 16,
   "metadata": {},
   "outputs": [
    {
     "name": "stdout",
     "output_type": "stream",
     "text": [
      "m\n",
      "o\n",
      "k\n"
     ]
    }
   ],
   "source": [
    "input_string = input(\"Please type in a string: \")\n",
    "print(input_string[0])\n",
    "print(input_string[1])\n",
    "print(input_string[3])"
   ]
  },
  {
   "cell_type": "markdown",
   "metadata": {},
   "source": [
    "Since the first character in a string has the index 0, the last character has the index length - 1. The following program prints out the first and the last characters of a string:"
   ]
  },
  {
   "cell_type": "code",
   "execution_count": 17,
   "metadata": {},
   "outputs": [
    {
     "name": "stdout",
     "output_type": "stream",
     "text": [
      "First character: t\n",
      "Last character: g\n"
     ]
    }
   ],
   "source": [
    "input_string = input(\"Please type in a string: \")\n",
    "print(\"First character: \" + input_string[0])\n",
    "print(\"Last character: \" + input_string[len(input_string) - 1])"
   ]
  },
  {
   "cell_type": "markdown",
   "metadata": {},
   "source": [
    "The following program loops through all the characters in a string from first to last:"
   ]
  },
  {
   "cell_type": "code",
   "execution_count": 19,
   "metadata": {},
   "outputs": [
    {
     "name": "stdout",
     "output_type": "stream",
     "text": [
      "t\n",
      "e\n",
      "s\n",
      "t\n"
     ]
    }
   ],
   "source": [
    "input_string = input(\"Please type in a string: \")\n",
    "index = 0\n",
    "\n",
    "while index < len(input_string):\n",
    "    print(input_string[index])\n",
    "    index += 1"
   ]
  },
  {
   "cell_type": "markdown",
   "metadata": {},
   "source": [
    "You can also use negative indexing to access characters counting from the end of the string. The last character in a string is at index -1, the second to last character is at index -2, and so forth. You can think of input_string[-1] as shorthand for input_string[len(input_string) - 1].\n",
    "\n",
    "![String](https://programming-24.mooc.fi/static/373faf879dbcd0f2263ba34a06adccbb/40040/3_2_2.png)"
   ]
  },
  {
   "cell_type": "markdown",
   "metadata": {},
   "source": [
    "The example from above can be simplified with negative indexing:"
   ]
  },
  {
   "cell_type": "code",
   "execution_count": 20,
   "metadata": {},
   "outputs": [
    {
     "name": "stdout",
     "output_type": "stream",
     "text": [
      "First character: t\n",
      "Last character: g\n"
     ]
    }
   ],
   "source": [
    "input_string = input(\"Please type in a string: \")\n",
    "print(\"First character: \" + input_string[0])\n",
    "print(\"Last character: \" + input_string[-1])"
   ]
  },
  {
   "cell_type": "markdown",
   "metadata": {},
   "source": [
    "##  IndexError: string index out of range\n",
    "If you tried the above examples for yourself, you may already have come across the error message IndexError: string index out of range. This error appears if you try to access an index which is not present in the string."
   ]
  },
  {
   "cell_type": "code",
   "execution_count": 21,
   "metadata": {},
   "outputs": [
    {
     "name": "stdout",
     "output_type": "stream",
     "text": [
      "The tenth character: i\n"
     ]
    }
   ],
   "source": [
    "input_string = input(\"Please type in a string: \")\n",
    "print(\"The tenth character: \" + input_string[9])"
   ]
  },
  {
   "cell_type": "code",
   "execution_count": 22,
   "metadata": {},
   "outputs": [
    {
     "ename": "IndexError",
     "evalue": "string index out of range",
     "output_type": "error",
     "traceback": [
      "\u001b[1;31m---------------------------------------------------------------------------\u001b[0m",
      "\u001b[1;31mIndexError\u001b[0m                                Traceback (most recent call last)",
      "Cell \u001b[1;32mIn[22], line 2\u001b[0m\n\u001b[0;32m      1\u001b[0m input_string \u001b[38;5;241m=\u001b[39m \u001b[38;5;28minput\u001b[39m(\u001b[38;5;124m\"\u001b[39m\u001b[38;5;124mPlease type in a string: \u001b[39m\u001b[38;5;124m\"\u001b[39m)\n\u001b[1;32m----> 2\u001b[0m \u001b[38;5;28mprint\u001b[39m(\u001b[38;5;124m\"\u001b[39m\u001b[38;5;124mThe tenth character: \u001b[39m\u001b[38;5;124m\"\u001b[39m \u001b[38;5;241m+\u001b[39m \u001b[43minput_string\u001b[49m\u001b[43m[\u001b[49m\u001b[38;5;241;43m9\u001b[39;49m\u001b[43m]\u001b[49m)\n",
      "\u001b[1;31mIndexError\u001b[0m: string index out of range"
     ]
    }
   ],
   "source": [
    "input_string = input(\"Please type in a string: \")\n",
    "print(\"The tenth character: \" + input_string[9])"
   ]
  },
  {
   "cell_type": "markdown",
   "metadata": {},
   "source": [
    "Sometimes an indexing error is caused by a bug in the code. For example, it is quite common to index too far when trying to access the last character in a string:"
   ]
  },
  {
   "cell_type": "code",
   "execution_count": 23,
   "metadata": {},
   "outputs": [
    {
     "ename": "IndexError",
     "evalue": "string index out of range",
     "output_type": "error",
     "traceback": [
      "\u001b[1;31m---------------------------------------------------------------------------\u001b[0m",
      "\u001b[1;31mIndexError\u001b[0m                                Traceback (most recent call last)",
      "Cell \u001b[1;32mIn[23], line 2\u001b[0m\n\u001b[0;32m      1\u001b[0m input_string \u001b[38;5;241m=\u001b[39m \u001b[38;5;28minput\u001b[39m(\u001b[38;5;124m\"\u001b[39m\u001b[38;5;124mPlease type in a string: \u001b[39m\u001b[38;5;124m\"\u001b[39m)\n\u001b[1;32m----> 2\u001b[0m \u001b[38;5;28mprint\u001b[39m(\u001b[38;5;124m\"\u001b[39m\u001b[38;5;124mLast character: \u001b[39m\u001b[38;5;124m\"\u001b[39m \u001b[38;5;241m+\u001b[39m \u001b[43minput_string\u001b[49m\u001b[43m[\u001b[49m\u001b[38;5;28;43mlen\u001b[39;49m\u001b[43m(\u001b[49m\u001b[43minput_string\u001b[49m\u001b[43m)\u001b[49m\u001b[43m]\u001b[49m)\n",
      "\u001b[1;31mIndexError\u001b[0m: string index out of range"
     ]
    }
   ],
   "source": [
    "input_string = input(\"Please type in a string: \")\n",
    "print(\"Last character: \" + input_string[len(input_string)])"
   ]
  },
  {
   "cell_type": "markdown",
   "metadata": {},
   "source": [
    "Since string indexing begins at zero, the last character is at index len(input_string) - 1, not at len(input_string).\n",
    "\n",
    "There are situations where the program should prepare for errors caused by input from the user:"
   ]
  },
  {
   "cell_type": "code",
   "execution_count": 2,
   "metadata": {},
   "outputs": [
    {
     "name": "stdout",
     "output_type": "stream",
     "text": [
      "The input string is empty. There is no first character.\n"
     ]
    }
   ],
   "source": [
    "input_string = input(\"Please type in a string: \")\n",
    "if len(input_string) > 0:\n",
    "    print(\"First character: \" + input_string[0])\n",
    "else:\n",
    "    print(\"The input string is empty. There is no first character.\")"
   ]
  },
  {
   "cell_type": "markdown",
   "metadata": {},
   "source": [
    "In the example above, if the programmer hadn't included a check for the length of the input string, a string of length zero would have caused an error. A string of length zero is also called an empty string, and here it would be achieved by just pressing Enter at the input prompt."
   ]
  },
  {
   "cell_type": "markdown",
   "metadata": {},
   "source": [
    "<hr/>\n",
    "<div class=\"alert alert-danger alertsuccess\" style=\"margin-top: 20px\">\n",
    "<h2>Programming exercise:</h2>\n",
    "<h3><b>End to beginning</b></h3>\n",
    "<p>\n",
    "Please write a program which asks the user for a string. The program then prints out the input string in reversed order, from end to beginning. Each character should be on a separate line.\n",
    "\n",
    "Please type in a string: hiya<br>\n",
    "a<br>\n",
    "y<br>\n",
    "i<br>\n",
    "h\n",
    "</p>\n",
    "</div>\n",
    "<hr/>"
   ]
  },
  {
   "cell_type": "code",
   "execution_count": 6,
   "metadata": {},
   "outputs": [
    {
     "name": "stdout",
     "output_type": "stream",
     "text": [
      "a\n",
      "y\n",
      "i\n",
      "h\n"
     ]
    }
   ],
   "source": [
    "text = input(\"Please type in a string: \")\n",
    "num = 1\n",
    "\n",
    "while num <= len(text):\n",
    "    print(text[-num])\n",
    "    num += 1"
   ]
  },
  {
   "cell_type": "markdown",
   "metadata": {},
   "source": [
    "OR"
   ]
  },
  {
   "cell_type": "code",
   "execution_count": 7,
   "metadata": {},
   "outputs": [
    {
     "name": "stdout",
     "output_type": "stream",
     "text": [
      "o\n",
      "l\n",
      "l\n",
      "e\n",
      "h\n"
     ]
    }
   ],
   "source": [
    "input_string = input(\"Please type in a string: \")\n",
    "index = -1\n",
    "\n",
    "while index >= -len(input_string):\n",
    "    print(input_string[index])\n",
    "    index -= 1"
   ]
  },
  {
   "cell_type": "markdown",
   "metadata": {},
   "source": [
    "<hr/>\n",
    "<div class=\"alert alert-danger alertsuccess\" style=\"margin-top: 20px\">\n",
    "<h2>Programming exercise:</h2>\n",
    "<h3><b>Second and second to last characters</b></h3>\n",
    "<p>\n",
    "Please write a program which asks the user for a string. The program then prints out a message based on whether the second character and the second to last character are the same or not. See the examples below.<br>\n",
    "\n",
    "Please type in a string: python<br>\n",
    "The second and the second to last characters are different<br>\n",
    "\n",
    "Please type in a string: pascal<br>\n",
    "The second and the second to last characters are a\n",
    "</p>\n",
    "</div>\n",
    "<hr/>"
   ]
  },
  {
   "cell_type": "code",
   "execution_count": 8,
   "metadata": {},
   "outputs": [
    {
     "name": "stdout",
     "output_type": "stream",
     "text": [
      "The second and the second to last characters are different\n"
     ]
    }
   ],
   "source": [
    "text = input(\"Please type in a string:\")\n",
    "\n",
    "if text[1] == text[-2]:\n",
    "    print(f\"The second and the second to last characters are {text[1]}\")\n",
    "else:\n",
    "    print(\"The second and the second to last characters are different\")"
   ]
  },
  {
   "cell_type": "code",
   "execution_count": 10,
   "metadata": {},
   "outputs": [
    {
     "name": "stdout",
     "output_type": "stream",
     "text": [
      "The second and the second to last characters are a\n"
     ]
    }
   ],
   "source": [
    "word = input(\"Please type in a string:\")\n",
    "\n",
    "# Check also that the word is at least two characters long,\n",
    "# so that the second and second to last characters exist\n",
    "if len(word) > 1 and word[1] == word[-2]:\n",
    "    print(\"The second and the second to last characters are \" + word[1])\n",
    "else:\n",
    "    print(\"The second and the second to last characters are different\")"
   ]
  },
  {
   "cell_type": "markdown",
   "metadata": {},
   "source": [
    "<hr/>\n",
    "<div class=\"alert alert-danger alertsuccess\" style=\"margin-top: 20px\">\n",
    "<h2>Programming exercise:</h2>\n",
    "<h3><b>A line of hashes</b></h3>\n",
    "<p>\n",
    "Please write a program which prints out a line of hash characters, the width of which is chosen by the user.<br>\n",
    "\n",
    "Width: 3<br>\n",
    "###<br>\n",
    "\n",
    "Width: 8<br>\n",
    "########<br>\n",
    "</p>\n",
    "</div>\n",
    "<hr/>"
   ]
  },
  {
   "cell_type": "code",
   "execution_count": 14,
   "metadata": {},
   "outputs": [
    {
     "name": "stdout",
     "output_type": "stream",
     "text": [
      "##########"
     ]
    }
   ],
   "source": [
    "width = int(input(\"Width:\"))\n",
    "index = 0\n",
    "\n",
    "while index < width:\n",
    "    print(\"#\", end=\"\")\n",
    "    index += 1"
   ]
  },
  {
   "cell_type": "markdown",
   "metadata": {},
   "source": [
    "OR"
   ]
  },
  {
   "cell_type": "code",
   "execution_count": 15,
   "metadata": {},
   "outputs": [
    {
     "name": "stdout",
     "output_type": "stream",
     "text": [
      "#####\n"
     ]
    }
   ],
   "source": [
    "width = int(input(\"Width: \"))\n",
    " \n",
    "print(\"#\"*width)"
   ]
  },
  {
   "cell_type": "markdown",
   "metadata": {},
   "source": [
    "<hr/>\n",
    "<div class=\"alert alert-danger alertsuccess\" style=\"margin-top: 20px\">\n",
    "<h2>Programming exercise:</h2>\n",
    "<h3><b>A rectangle of hashes</b></h3>\n",
    "<p>\n",
    "Please modify the previous program so that it also asks for the height, and prints out a rectangle of hash characters accordingly.<br>\n",
    "\n",
    "Width: 10<br>\n",
    "Height: 3<br>\n",
    "##########<br>\n",
    "##########<br>\n",
    "##########\n",
    "</p>\n",
    "</div>\n",
    "<hr/>"
   ]
  },
  {
   "cell_type": "code",
   "execution_count": 29,
   "metadata": {},
   "outputs": [
    {
     "name": "stdout",
     "output_type": "stream",
     "text": [
      "########## \n",
      "########## \n",
      "########## \n",
      "########## \n",
      "########## \n",
      "########## \n",
      "########## \n",
      "########## \n",
      "########## \n",
      "########## \n"
     ]
    }
   ],
   "source": [
    "# Write your solution here\n",
    "width = int(input(\"Width:\"))\n",
    "Height = int(input(\"Height:\"))\n",
    "index1 = 0\n",
    "\n",
    "while index1 < Height:\n",
    "    index2 = 0\n",
    "    \n",
    "    while index2 < width:\n",
    "        print(\"#\", end=\"\")\n",
    "        index2 += 1\n",
    "    print(\" \")\n",
    "    index1 += 1"
   ]
  },
  {
   "cell_type": "markdown",
   "metadata": {},
   "source": [
    "OR"
   ]
  },
  {
   "cell_type": "code",
   "execution_count": 30,
   "metadata": {},
   "outputs": [
    {
     "name": "stdout",
     "output_type": "stream",
     "text": [
      "#####\n",
      "#####\n"
     ]
    }
   ],
   "source": [
    "width = int(input(\"Width: \"))\n",
    "height = int(input(\"Height: \"))\n",
    " \n",
    "n = 0\n",
    "while n < height:\n",
    "    print(\"#\" * width)\n",
    "    n += 1"
   ]
  },
  {
   "cell_type": "markdown",
   "metadata": {},
   "source": [
    "<hr/>\n",
    "<div class=\"alert alert-danger alertsuccess\" style=\"margin-top: 20px\">\n",
    "<h2>Programming exercise:</h2>\n",
    "<h3><b>Underlining</b></h3>\n",
    "<p>\n",
    "Please write a program which asks the user for strings using a loop. The program prints out each string underlined as shown in the examples below. The execution ends when the user inputs an empty string - that is, just presses Enter at the prompt.<br>\n",
    "\n",
    "Please type in a string: Hi there!<br>\n",
    "Hi there!<br>\n",
    "---------<br>\n",
    "Please type in a string: This is a test<br>\n",
    "<br>\n",
    "This is a test<br>\n",
    "--------------<br>\n",
    "Please type in a string: a<br>\n",
    "<br>\n",
    "a<br>\n",
    "-<br>\n",
    "Please type in a string:\n",
    "</p>\n",
    "</div>\n",
    "<hr/>"
   ]
  },
  {
   "cell_type": "code",
   "execution_count": 40,
   "metadata": {},
   "outputs": [
    {
     "name": "stdout",
     "output_type": "stream",
     "text": [
      "Hi\n",
      "--\n",
      "Hello\n",
      "-----\n",
      "Hello everybody!\n",
      "----------------\n",
      "This is a test\n",
      "--------------\n",
      "Hello everybody Ello hello everybody!\n",
      "-------------------------------------\n"
     ]
    }
   ],
   "source": [
    "# Write your solution here\n",
    "index = 0\n",
    "\n",
    "while True:\n",
    "    text = input(\"Please type in a string:\")\n",
    "    if len(text) == 0:\n",
    "        break\n",
    "    print(text)\n",
    "    print(len(text) *  \"-\")"
   ]
  },
  {
   "cell_type": "markdown",
   "metadata": {},
   "source": [
    "<hr/>\n",
    "<div class=\"alert alert-danger alertsuccess\" style=\"margin-top: 20px\">\n",
    "<h2>Programming exercise:</h2>\n",
    "<h3><b>Right-aligned</b></h3>\n",
    "<p>\n",
    "Please write a program which asks the user for a string and then prints it out so that exactly 20 characters are displayed. If the input is shorter than 20 characters, the beginning of the line is filled in with * characters.\n",
    "\n",
    "You may assume the input string is at most 20 characters long.<br>\n",
    "\n",
    "Please type in a string: python<br>\n",
    "**************python<br>\n",
    "\n",
    "Please type in a string: alongerstring<br>\n",
    "*******alongerstring<br>\n",
    "\n",
    "Please type in a string: averyverylongstring<br>\n",
    "*averyverylongstring\n",
    "</p>\n",
    "</div>\n",
    "<hr/>"
   ]
  },
  {
   "cell_type": "code",
   "execution_count": 44,
   "metadata": {},
   "outputs": [
    {
     "name": "stdout",
     "output_type": "stream",
     "text": [
      "*averyverylongstring\n"
     ]
    }
   ],
   "source": [
    "text = input(\"Please type in a string:\")\n",
    "left = 20 - len(text)\n",
    "\n",
    "if len(text) < 20:\n",
    "    print(left * \"*\" + text)\n",
    "else:\n",
    "    print(\"The string is more than 20 letters!\")"
   ]
  },
  {
   "cell_type": "markdown",
   "metadata": {},
   "source": [
    "OR Simply"
   ]
  },
  {
   "cell_type": "code",
   "execution_count": 45,
   "metadata": {},
   "outputs": [
    {
     "name": "stdout",
     "output_type": "stream",
     "text": [
      "**************python\n"
     ]
    }
   ],
   "source": [
    "word = input(\"Please type in a string: \")\n",
    " \n",
    "aligned = (20 - len(word)) * \"*\" + word\n",
    " \n",
    "print(aligned)"
   ]
  },
  {
   "cell_type": "markdown",
   "metadata": {},
   "source": [
    "<hr/>\n",
    "<div class=\"alert alert-danger alertsuccess\" style=\"margin-top: 20px\">\n",
    "<h2>Programming exercise:</h2>\n",
    "<h3><b>A framed word</b></h3>\n",
    "<p>\n",
    "Please write a program which asks the user for a string and then prints out a frame of * characters with the word in the centre. The width of the frame should be 30 characters. You may assume the input string will always fit inside the frame.\n",
    "\n",
    "If the length of the input string is an odd number, you may print out the word in either of the two possible centre locations.<br>\n",
    "\n",
    "Word: testing\n",
    "<br>******************************\n",
    "<br>*          testing           *\n",
    "<br>******************************\n",
    "<br>\n",
    "<br>Word: python\n",
    "<br>******************************\n",
    "<br>*           python           *\n",
    "<br>******************************\n",
    "\n",
    "\n",
    "</p>\n",
    "</div>\n",
    "<hr/>"
   ]
  },
  {
   "cell_type": "code",
   "execution_count": 72,
   "metadata": {},
   "outputs": [
    {
     "name": "stdout",
     "output_type": "stream",
     "text": [
      "******************************\n",
      "*           python           *\n",
      "******************************\n"
     ]
    }
   ],
   "source": [
    "# Write your solution here\n",
    "text = input(\"Word:\")\n",
    "\n",
    "print(30 * \"*\")\n",
    "if len(text) % 2 == 0:\n",
    "    space = (28 - len(text))//2\n",
    "    print(\"*\" + space*\" \" + text + space*\" \" + \"*\")\n",
    "else:\n",
    "    space = ((28 - len(text))//2)+1\n",
    "    print(\"*\" + space*\" \" + text + (space-1)*\" \" + \"*\")\n",
    "print(30 * \"*\")"
   ]
  },
  {
   "cell_type": "markdown",
   "metadata": {},
   "source": [
    "OR"
   ]
  },
  {
   "cell_type": "code",
   "execution_count": 73,
   "metadata": {},
   "outputs": [
    {
     "name": "stdout",
     "output_type": "stream",
     "text": [
      "******************************\n",
      "*          testing           *\n",
      "******************************\n"
     ]
    }
   ],
   "source": [
    "word = input(\"Word: \")\n",
    " \n",
    "print(\"*\" * 30)\n",
    "spaces_at_start = (28 - len(word)) // 2\n",
    "spaces_at_end = spaces_at_start\n",
    " \n",
    "# If the word length is odd, one is added to the spaces at the end of the word\n",
    "# to get all 30 characters filled\n",
    "if len(word) % 2 != 0:\n",
    "    spaces_at_end += 1\n",
    " \n",
    "print(\"*\" + spaces_at_start * \" \" + word + spaces_at_end * \" \" + \"*\")\n",
    "print(\"*\" * 30)"
   ]
  },
  {
   "cell_type": "markdown",
   "metadata": {},
   "source": [
    "# Substrings and slices\n",
    "A substring of a string is a sequence of characters that forms a part of the string. For example, the string example contains the substrings exam, amp and ple, among others. In Python programming, the process of selecting substrings is usually called slicing, and a substring is often referred to as a slice of the string. The two terms can often be used interchangeably.\n",
    "\n",
    "If you know the beginning and end indexes of the slice you wish to extract, you can do so with the notation [a:b]. This means the slice begins at the index a and ends at the last character before index b - that is, including the first, but excluding the last. You can think of the indexes as separator lines drawn on the left side of the indexed character, as illustrated in the image below:\n",
    "\n",
    "![Slices](https://programming-24.mooc.fi/static/2ff2c1c4d3ebbc4413f1f393bd3f8f0c/92d15/3_2_3.png)"
   ]
  },
  {
   "cell_type": "markdown",
   "metadata": {},
   "source": [
    "Let's have a closer look at some sliced strings:"
   ]
  },
  {
   "cell_type": "code",
   "execution_count": 74,
   "metadata": {},
   "outputs": [
    {
     "name": "stdout",
     "output_type": "stream",
     "text": [
      "pre\n",
      "umptio\n",
      "pre\n",
      "umptious\n"
     ]
    }
   ],
   "source": [
    "input_string = \"presumptious\"\n",
    "\n",
    "print(input_string[0:3])\n",
    "print(input_string[4:10])\n",
    "\n",
    "# if the beginning index is left out, it defaults to 0\n",
    "print(input_string[:3])\n",
    "\n",
    "# if the end index is left out, it defaults to the length of the string\n",
    "print(input_string[4:])"
   ]
  },
  {
   "cell_type": "markdown",
   "metadata": {},
   "source": [
    "<hr/>\n",
    "<div class=\"alert alert-danger alertsuccess\" style=\"margin-top: 20px\">\n",
    "<h2>Programming exercise:</h2>\n",
    "<h3><b>Substrings, part 1</b></h3>\n",
    "<p>\n",
    "Please write a program which asks the user to type in a string. The program then prints out all the substrings which begin with the first character, from the shortest to the longest. Have a look at the example below.<br>\n",
    "\n",
    "Please type in a string: test<br>\n",
    "t<br>\n",
    "te<br>\n",
    "tes<br>\n",
    "test\n",
    "</p>\n",
    "</div>\n",
    "<hr/>"
   ]
  },
  {
   "cell_type": "code",
   "execution_count": 84,
   "metadata": {},
   "outputs": [
    {
     "name": "stdout",
     "output_type": "stream",
     "text": [
      "\n",
      "t\n",
      "te\n",
      "tes\n",
      "test\n"
     ]
    }
   ],
   "source": [
    "# Write your solution here\n",
    "word = input(\"Please type in a string: \")\n",
    "index = 0\n",
    "first_letter = 0\n",
    "\n",
    "while index <= len(word):\n",
    "    print(word[first_letter:index])\n",
    "    index += 1"
   ]
  },
  {
   "cell_type": "markdown",
   "metadata": {},
   "source": [
    "<hr/>\n",
    "<div class=\"alert alert-danger alertsuccess\" style=\"margin-top: 20px\">\n",
    "<h2>Programming exercise:</h2>\n",
    "<h3><b>Substrings, part 2</b></h3>\n",
    "<p>\n",
    "Please write a program which asks the user to type in a string. The program then prints out all the substrings which end with the last character, from the shortest to the longest. Have a look at the example below.<br>\n",
    "\n",
    "Please type in a string: test<br>\n",
    "t<br>\n",
    "st<br>\n",
    "est<br>\n",
    "test\n",
    "</p>\n",
    "</div>\n",
    "<hr/>"
   ]
  },
  {
   "cell_type": "code",
   "execution_count": 102,
   "metadata": {},
   "outputs": [
    {
     "name": "stdout",
     "output_type": "stream",
     "text": [
      "\n",
      "t\n",
      "st\n",
      "est\n",
      "test\n"
     ]
    }
   ],
   "source": [
    "# Write your solution here\n",
    "word = input(\"Please type in a string: \")\n",
    "index = 0\n",
    "last_word = len(word)\n",
    "\n",
    "while index <= len(word):\n",
    "    next_letter = last_word - index\n",
    "    print(word[next_letter:last_word])\n",
    "    index += 1"
   ]
  },
  {
   "cell_type": "markdown",
   "metadata": {},
   "source": [
    "OR Simply"
   ]
  },
  {
   "cell_type": "code",
   "execution_count": 103,
   "metadata": {},
   "outputs": [
    {
     "name": "stdout",
     "output_type": "stream",
     "text": [
      "n\n",
      "on\n",
      "hon\n",
      "thon\n",
      "ython\n",
      "python\n"
     ]
    }
   ],
   "source": [
    "string = input(\"Please type in a string: \")\n",
    " \n",
    "start = len(string) - 1\n",
    "while start >= 0:\n",
    "    print(string[start:])\n",
    "    start -= 1"
   ]
  },
  {
   "cell_type": "markdown",
   "metadata": {},
   "source": [
    "## Searching for substrings\n",
    "The in operator can tell us if a string contains a particular substring. The Boolean expression a in b is true, if b contains the substring a.\n",
    "\n",
    "For example, this bit of code"
   ]
  },
  {
   "cell_type": "code",
   "execution_count": 1,
   "metadata": {},
   "outputs": [
    {
     "name": "stdout",
     "output_type": "stream",
     "text": [
      "True\n",
      "False\n",
      "True\n",
      "False\n"
     ]
    }
   ],
   "source": [
    "input_string = \"test\"\n",
    "\n",
    "print(\"t\" in input_string)\n",
    "print(\"x\" in input_string)\n",
    "print(\"es\" in input_string)\n",
    "print(\"ets\" in input_string)"
   ]
  },
  {
   "cell_type": "code",
   "execution_count": 2,
   "metadata": {},
   "outputs": [
    {
     "name": "stdout",
     "output_type": "stream",
     "text": [
      "Found it\n"
     ]
    }
   ],
   "source": [
    "input_string = \"perpendicular\"\n",
    "\n",
    "while True:\n",
    "    substring = input(\"What are you looking for? \")\n",
    "    if substring in input_string:\n",
    "        print(\"Found it\")\n",
    "        break\n",
    "    else:\n",
    "        print(\"Not found\")\n",
    "        break"
   ]
  },
  {
   "cell_type": "code",
   "execution_count": 3,
   "metadata": {},
   "outputs": [
    {
     "name": "stdout",
     "output_type": "stream",
     "text": [
      "Not found\n"
     ]
    }
   ],
   "source": [
    "input_string = \"perpendicular\"\n",
    "\n",
    "while True:\n",
    "    substring = input(\"What are you looking for? \")\n",
    "    if substring in input_string:\n",
    "        print(\"Found it\")\n",
    "        break\n",
    "    else:\n",
    "        print(\"Not found\")\n",
    "        break"
   ]
  },
  {
   "cell_type": "markdown",
   "metadata": {},
   "source": [
    "<hr/>\n",
    "<div class=\"alert alert-danger alertsuccess\" style=\"margin-top: 20px\">\n",
    "<h2>Programming exercise:</h2>\n",
    "<h3><b>Does it contain vowels</b></h3>\n",
    "<p>\n",
    "Please write a program which asks the user to input a string. The program then prints out different messages if the string contains any of the vowels a, e or o.\n",
    "\n",
    "You may assume the input will be in lowercase entirely. Have a look at the examples below.<br>\n",
    "\n",
    "Please type in a string: hello there<br>\n",
    "a not found<br>\n",
    "e found<br>\n",
    "o found<br>\n",
    "\n",
    "Please type in a string: hiya<br>\n",
    "a found<br>\n",
    "e not found<br>\n",
    "o not found\n",
    "</p>\n",
    "</div>\n",
    "<hr/>"
   ]
  },
  {
   "cell_type": "code",
   "execution_count": null,
   "metadata": {},
   "outputs": [],
   "source": []
  }
 ],
 "metadata": {
  "kernelspec": {
   "display_name": "Python 3",
   "language": "python",
   "name": "python3"
  },
  "language_info": {
   "codemirror_mode": {
    "name": "ipython",
    "version": 3
   },
   "file_extension": ".py",
   "mimetype": "text/x-python",
   "name": "python",
   "nbconvert_exporter": "python",
   "pygments_lexer": "ipython3",
   "version": "3.12.1"
  }
 },
 "nbformat": 4,
 "nbformat_minor": 2
}
