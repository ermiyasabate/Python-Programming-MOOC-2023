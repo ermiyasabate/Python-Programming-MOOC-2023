{
 "cells": [
  {
   "cell_type": "markdown",
   "metadata": {},
   "source": [
    "# Working with strings\n",
    "\n",
    "## String operations\n",
    "Strings can be combined, or concatenated, with the + operator:"
   ]
  },
  {
   "cell_type": "code",
   "execution_count": 2,
   "metadata": {},
   "outputs": [
    {
     "name": "stdout",
     "output_type": "stream",
     "text": [
      "example\n"
     ]
    }
   ],
   "source": [
    "begin = \"ex\"\n",
    "end = \"ample\"\n",
    "word = begin + end\n",
    "print(word)"
   ]
  },
  {
   "cell_type": "markdown",
   "metadata": {},
   "source": [
    "The * operator can also be used with a string, when the other operand is an integer. The string operand is then repeated the number of times specified by the integer. For example this would work:"
   ]
  },
  {
   "cell_type": "code",
   "execution_count": 3,
   "metadata": {},
   "outputs": [
    {
     "name": "stdout",
     "output_type": "stream",
     "text": [
      "bananabananabanana\n"
     ]
    }
   ],
   "source": [
    "word = \"banana\"\n",
    "print(word * 3)"
   ]
  },
  {
   "cell_type": "markdown",
   "metadata": {},
   "source": [
    "Using string operations together with a loop we can write a program which draws a pyramid:"
   ]
  },
  {
   "cell_type": "code",
   "execution_count": 8,
   "metadata": {},
   "outputs": [
    {
     "name": "stdout",
     "output_type": "stream",
     "text": [
      "          *\n",
      "         ***\n",
      "        *****\n",
      "       *******\n",
      "      *********\n",
      "     ***********\n",
      "    *************\n",
      "   ***************\n",
      "  *****************\n",
      " *******************\n"
     ]
    }
   ],
   "source": [
    "n = 10 # number of layers in the pyramid\n",
    "row = \"*\"\n",
    "\n",
    "while n > 0:\n",
    "    print(\" \" * n + row)\n",
    "    row += \"**\"\n",
    "    n -= 1"
   ]
  },
  {
   "cell_type": "markdown",
   "metadata": {},
   "source": [
    "The print command within the loop prints a line, which begins with n spaces, followed by whatever is stored in the variable row. Then two stars are added to the end of the variable row, and the value of the variable n is decreased by 1."
   ]
  },
  {
   "cell_type": "markdown",
   "metadata": {},
   "source": [
    "<hr/>\n",
    "<div class=\"alert alert-danger alertsuccess\" style=\"margin-top: 20px\">\n",
    "<h2>Programming exercise:</h2>\n",
    "<h3><b>String multiplied</b></h3>\n",
    "<p>\n",
    "Please write a program which asks the user for a string and an amount. The program then prints out the string as many times as specified by the amount. The printout should all be on one line, with no extra spaces or symbols added.\n",
    "\n",
    "An example of expected behaviour:<br>\n",
    "Please type in a string: hiya<br>\n",
    "Please type in an amount: 4<br>\n",
    "hiyahiyahiyahiya\n",
    "\n",
    "</p>\n",
    "</div>\n",
    "<hr/>"
   ]
  },
  {
   "cell_type": "code",
   "execution_count": 9,
   "metadata": {},
   "outputs": [
    {
     "name": "stdout",
     "output_type": "stream",
     "text": [
      "hiyahiyahiyahiya\n"
     ]
    }
   ],
   "source": [
    "text = input(\"Please type in a string: \")\n",
    "amount = int(input(\"Please type in an amount:\"))\n",
    "\n",
    "print(text * amount)"
   ]
  },
  {
   "cell_type": "markdown",
   "metadata": {},
   "source": [
    "## The length and index of a string\n",
    "The function len returns the number of characters in a string, which is always an integer value. For example, len(\"hey\") returns 3, because there are three characters in the string hey.\n",
    "\n",
    "The following program asks the user for a string and then prints it \"underlined\". The program prints a second line with as many - characters as is the length of the input:"
   ]
  },
  {
   "cell_type": "code",
   "execution_count": 10,
   "metadata": {},
   "outputs": [
    {
     "name": "stdout",
     "output_type": "stream",
     "text": [
      "Hi there!\n",
      "---------\n"
     ]
    }
   ],
   "source": [
    "input_string = input(\"Please type in a string: \")\n",
    "print(input_string)\n",
    "print(\"-\"*len(input_string))"
   ]
  },
  {
   "cell_type": "markdown",
   "metadata": {},
   "source": [
    "The length of a string includes all the characters in the string, including whitespace. For example, the length of the string bye bye is 7.\n",
    "\n",
    "<hr/>\n",
    "<div class=\"alert alert-danger alertsuccess\" style=\"margin-top: 20px\">\n",
    "<h2>Programming exercise:</h2>\n",
    "<h3><b>The longer string</b></h3>\n",
    "<p>\n",
    "Please write a program which asks the user for two strings and then prints out whichever is the longer of the two - that is, whichever has the more characters. If the strings are of equal length, the program should print out \"The strings are equally long\".\n",
    "\n",
    "Some examples of expected behaviour:<br>\n",
    "\n",
    "Please type in string 1: hey<br>\n",
    "Please type in string 2: hiya<br>\n",
    "hiya is longer<br>\n",
    "\n",
    "Please type in string 1: howdy doody<br>\n",
    "Please type in string 2: hola<br>\n",
    "howdy doody is longer<br>\n",
    "\n",
    "Please type in string 1: hey<br>\n",
    "Please type in string 2: bye<br>\n",
    "The strings are equally long\n",
    "</p>\n",
    "</div>\n",
    "<hr/>"
   ]
  },
  {
   "cell_type": "code",
   "execution_count": 14,
   "metadata": {},
   "outputs": [
    {
     "name": "stdout",
     "output_type": "stream",
     "text": [
      "The strings are equally\n"
     ]
    }
   ],
   "source": [
    "text_one = input(\"Please type in string 1: \")\n",
    "text_two = input(\"Please type in string 2: \")\n",
    "\n",
    "if len(text_one) > len(text_two):\n",
    "    print(f\"{text_one} is longer\")\n",
    "elif len(text_one) < len(text_two):\n",
    "    print(f\"{text_two} is longer\")\n",
    "else:\n",
    "    print(\"The strings are equally\")"
   ]
  },
  {
   "cell_type": "code",
   "execution_count": null,
   "metadata": {},
   "outputs": [],
   "source": []
  }
 ],
 "metadata": {
  "kernelspec": {
   "display_name": "Python 3",
   "language": "python",
   "name": "python3"
  },
  "language_info": {
   "codemirror_mode": {
    "name": "ipython",
    "version": 3
   },
   "file_extension": ".py",
   "mimetype": "text/x-python",
   "name": "python",
   "nbconvert_exporter": "python",
   "pygments_lexer": "ipython3",
   "version": "3.12.1"
  }
 },
 "nbformat": 4,
 "nbformat_minor": 2
}
